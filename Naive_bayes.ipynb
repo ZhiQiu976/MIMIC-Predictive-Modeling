{
 "cells": [
  {
   "cell_type": "code",
   "execution_count": 1,
   "metadata": {},
   "outputs": [],
   "source": [
    "import pandas as pd"
   ]
  },
  {
   "cell_type": "code",
   "execution_count": 4,
   "metadata": {},
   "outputs": [],
   "source": [
    "X_test = pd.read_csv(\"https://raw.githubusercontent.com/biostats823-final-project/MIMIC-Predictive-Modeling/zhmyz/Data/X_test.csv\")\n",
    "X_train = pd.read_csv(\"https://raw.githubusercontent.com/biostats823-final-project/MIMIC-Predictive-Modeling/zhmyz/Data/X_train.csv\")\n",
    "y_train = pd.read_csv(\"https://raw.githubusercontent.com/biostats823-final-project/MIMIC-Predictive-Modeling/zhmyz/Data/y_train.csv\")\n",
    "y_test = pd.read_csv(\"https://raw.githubusercontent.com/biostats823-final-project/MIMIC-Predictive-Modeling/zhmyz/Data/y_test.csv\")"
   ]
  },
  {
   "cell_type": "code",
   "execution_count": 16,
   "metadata": {},
   "outputs": [],
   "source": [
    "X_train = X_train.drop('Unnamed: 0', axis=1)\n",
    "X_test = X_test.drop('Unnamed: 0', axis=1)\n",
    "y_train = y_train.drop('Unnamed: 0', axis=1)\n",
    "y_test = y_test.drop('Unnamed: 0', axis=1)"
   ]
  },
  {
   "cell_type": "markdown",
   "metadata": {},
   "source": [
    "### Naive bayes\n",
    "- With the raw data, accuracy equals 0.551 and 0.556 on training and test respectively"
   ]
  },
  {
   "cell_type": "code",
   "execution_count": 23,
   "metadata": {},
   "outputs": [],
   "source": [
    "from sklearn.naive_bayes import GaussianNB\n",
    "from sklearn.metrics import accuracy_score, f1_score, confusion_matrix"
   ]
  },
  {
   "cell_type": "code",
   "execution_count": 9,
   "metadata": {},
   "outputs": [],
   "source": [
    "clf = GaussianNB()"
   ]
  },
  {
   "cell_type": "code",
   "execution_count": 20,
   "metadata": {},
   "outputs": [
    {
     "data": {
      "text/plain": [
       "GaussianNB()"
      ]
     },
     "execution_count": 20,
     "metadata": {},
     "output_type": "execute_result"
    }
   ],
   "source": [
    "clf.fit(X_train, y_train.squeeze())"
   ]
  },
  {
   "cell_type": "code",
   "execution_count": 22,
   "metadata": {},
   "outputs": [],
   "source": [
    "train_pred = clf.predict(X_train)\n",
    "test_pred = clf.predict(X_test)"
   ]
  },
  {
   "cell_type": "code",
   "execution_count": 28,
   "metadata": {},
   "outputs": [
    {
     "name": "stdout",
     "output_type": "stream",
     "text": [
      "Train accuracy:0.551\n",
      "Train F1:0.523\n",
      "Test accuracy:0.556\n",
      "Test F1:0.528\n"
     ]
    }
   ],
   "source": [
    "print('Train accuracy:{}'.format(round(accuracy_score(y_train, train_pred),3)))\n",
    "print('Train F1:{}'.format(round(f1_score(y_train, train_pred, average='weighted'),3)))\n",
    "print('Test accuracy:{}'.format(round(accuracy_score(y_test, test_pred),3)))\n",
    "print('Test F1:{}'.format(round(f1_score(y_test, test_pred, average='weighted'),3)))"
   ]
  },
  {
   "cell_type": "code",
   "execution_count": null,
   "metadata": {},
   "outputs": [],
   "source": []
  }
 ],
 "metadata": {
  "kernelspec": {
   "display_name": "Python 3",
   "language": "python",
   "name": "python3"
  },
  "language_info": {
   "codemirror_mode": {
    "name": "ipython",
    "version": 3
   },
   "file_extension": ".py",
   "mimetype": "text/x-python",
   "name": "python",
   "nbconvert_exporter": "python",
   "pygments_lexer": "ipython3",
   "version": "3.7.8"
  }
 },
 "nbformat": 4,
 "nbformat_minor": 4
}
