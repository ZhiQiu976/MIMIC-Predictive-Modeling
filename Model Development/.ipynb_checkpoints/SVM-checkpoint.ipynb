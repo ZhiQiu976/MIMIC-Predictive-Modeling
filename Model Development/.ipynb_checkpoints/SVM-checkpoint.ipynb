{
 "cells": [
  {
   "cell_type": "code",
   "execution_count": 1,
   "metadata": {},
   "outputs": [],
   "source": [
    "import pandas as pd\n",
    "import numpy as np\n",
    "import matplotlib.pyplot as plt\n",
    "import seaborn as sns\n",
    "\n",
    "%matplotlib inline"
   ]
  },
  {
   "cell_type": "code",
   "execution_count": 2,
   "metadata": {},
   "outputs": [],
   "source": [
    "from sklearn.metrics import accuracy_score, f1_score, confusion_matrix\n",
    "from sklearn.metrics import plot_confusion_matrix\n",
    "\n",
    "from sklearn.model_selection import train_test_split\n",
    "\n",
    "from sklearn.preprocessing import MinMaxScaler\n",
    "from sklearn.preprocessing import StandardScaler\n",
    "from sklearn.model_selection import KFold\n",
    "\n",
    "from sklearn.svm import SVC\n",
    "from lightgbm import LGBMClassifier\n",
    "\n",
    "from sklearn.cluster import KMeans\n",
    "\n",
    "from sklearn.multiclass import OneVsRestClassifier\n",
    "from sklearn.multiclass import OneVsOneClassifier\n",
    "\n",
    "from sklearn.model_selection import GridSearchCV"
   ]
  },
  {
   "cell_type": "code",
   "execution_count": 3,
   "metadata": {},
   "outputs": [],
   "source": [
    "raw = pd.read_csv('../Data/dat_raw.csv', index_col=0)\n",
    "train_X = pd.read_csv('../Data/X_train.csv', index_col=0)\n",
    "test_X = pd.read_csv('../Data/X_test.csv', index_col=0)\n",
    "train_y = pd.read_csv('../Data/y_train.csv', index_col=0)\n",
    "test_y = pd.read_csv('../Data/y_test.csv', index_col=0)"
   ]
  },
  {
   "cell_type": "code",
   "execution_count": 4,
   "metadata": {},
   "outputs": [],
   "source": [
    "# train_X.info()"
   ]
  },
  {
   "cell_type": "code",
   "execution_count": 5,
   "metadata": {},
   "outputs": [
    {
     "data": {
      "text/plain": [
       "((37216, 84), (9304, 84))"
      ]
     },
     "execution_count": 5,
     "metadata": {},
     "output_type": "execute_result"
    }
   ],
   "source": [
    "train_X.shape, test_X.shape"
   ]
  },
  {
   "cell_type": "code",
   "execution_count": 6,
   "metadata": {},
   "outputs": [
    {
     "data": {
      "text/plain": [
       "array([1, 3, 2, 4])"
      ]
     },
     "execution_count": 6,
     "metadata": {},
     "output_type": "execute_result"
    }
   ],
   "source": [
    "train_y.target.unique()"
   ]
  },
  {
   "cell_type": "markdown",
   "metadata": {},
   "source": [
    "perceptron linear seperable checking: \n",
    "- training f1 0.5966\n",
    "- training acc 0.6409\n",
    "- acc per class: 1 very high, over 90\\%"
   ]
  },
  {
   "cell_type": "code",
   "execution_count": 7,
   "metadata": {},
   "outputs": [],
   "source": [
    "# X_training = train_X.copy().values\n",
    "# y_training = train_y.copy().values.ravel()\n",
    "# X_testing = test_X.copy().values\n",
    "# y_testing = test_y.copy().values.ravel()"
   ]
  },
  {
   "cell_type": "markdown",
   "metadata": {},
   "source": [
    "cluster elbow checking: n_clusters = 4"
   ]
  },
  {
   "cell_type": "code",
   "execution_count": 8,
   "metadata": {},
   "outputs": [],
   "source": [
    "# # clustering checking\n",
    "# wcss = []\n",
    "# for i in range(1,11):\n",
    "#     kmeans = KMeans(n_clusters=i, init='k-means++', random_state=21)\n",
    "#     kmeans.fit(X_training)\n",
    "#     wcss.append(kmeans.inertia_)\n",
    "    \n",
    "# plt.plot(range(1,11), wcss)\n",
    "# plt.title('The Elbow Method')\n",
    "# plt.xlabel('Number of clusters')\n",
    "# plt.ylabel('WCSS')\n",
    "# plt.show()"
   ]
  },
  {
   "cell_type": "markdown",
   "metadata": {},
   "source": [
    "add a clustering feature doesn't help a lot (according to lightGBM)"
   ]
  },
  {
   "cell_type": "code",
   "execution_count": 9,
   "metadata": {},
   "outputs": [],
   "source": [
    "# n_clusters = 4\n",
    "\n",
    "# # kmeans clustering\n",
    "# clf = KMeans(n_clusters=n_clusters, random_state=21)\n",
    "# clf.fit(X_training)\n",
    "# y_labels_train = clf.predict(X_training)\n",
    "# y_labels_test = clf.predict(X_testing)\n",
    "\n",
    "# # add as feature\n",
    "# train_X['km_cluster'] = y_labels_train\n",
    "# test_X['km_cluster'] = y_labels_test"
   ]
  },
  {
   "cell_type": "markdown",
   "metadata": {},
   "source": [
    "### SVM model"
   ]
  },
  {
   "cell_type": "code",
   "execution_count": 10,
   "metadata": {},
   "outputs": [],
   "source": [
    "X_train = train_X.copy().values\n",
    "y_train = train_y.copy().values.ravel()\n",
    "X_test = test_X.copy().values\n",
    "y_test = test_y.copy().values.ravel()"
   ]
  },
  {
   "cell_type": "code",
   "execution_count": 11,
   "metadata": {},
   "outputs": [],
   "source": [
    "# scaling, minmax\n",
    "scaler = MinMaxScaler()\n",
    "X_train = scaler.fit_transform(X_train)\n",
    "X_test = scaler.transform(X_test)"
   ]
  },
  {
   "cell_type": "markdown",
   "metadata": {},
   "source": [
    "**param tuning**"
   ]
  },
  {
   "cell_type": "code",
   "execution_count": 14,
   "metadata": {},
   "outputs": [
    {
     "name": "stdout",
     "output_type": "stream",
     "text": [
      "Fitting 3 folds for each of 12 candidates, totalling 36 fits\n"
     ]
    },
    {
     "name": "stderr",
     "output_type": "stream",
     "text": [
      "[Parallel(n_jobs=-1)]: Using backend LokyBackend with 64 concurrent workers.\n",
      "[Parallel(n_jobs=-1)]: Done   4 out of  36 | elapsed:  3.2min remaining: 25.6min\n",
      "[Parallel(n_jobs=-1)]: Done  23 out of  36 | elapsed:  4.0min remaining:  2.3min\n",
      "[Parallel(n_jobs=-1)]: Done  36 out of  36 | elapsed:  4.6min finished\n"
     ]
    },
    {
     "data": {
      "text/plain": [
       "{'C': 1.0, 'decision_function_shape': 'ovo', 'degree': 3, 'kernel': 'poly'}"
      ]
     },
     "execution_count": 14,
     "metadata": {},
     "output_type": "execute_result"
    }
   ],
   "source": [
    "# Create the parameter grid based on the results of random search \n",
    "param_grid = {\n",
    "    'C': [0.1, 0.5, 1.0],\n",
    "    'kernel': ['rbf', 'poly', 'linear', 'sigmoid'],\n",
    "    'degree': [3],\n",
    "    'decision_function_shape': ['ovo']\n",
    "}\n",
    "# model\n",
    "svm = SVC()\n",
    "# Instantiate the grid search model\n",
    "grid_search = GridSearchCV(estimator = svm, param_grid = param_grid, \n",
    "                          cv = 3, n_jobs = -1, verbose = 2, scoring='accuracy')\n",
    "\n",
    "grid_search.fit(X_train, y_train)\n",
    "\n",
    "best = grid_search.best_params_\n",
    "best"
   ]
  },
  {
   "cell_type": "code",
   "execution_count": 16,
   "metadata": {},
   "outputs": [
    {
     "name": "stdout",
     "output_type": "stream",
     "text": [
      "--------------------------------------------------\n",
      "Training f1: 0.6157\n",
      "Training Accuracy: 0.6697\n",
      "--------------------------------------------------\n",
      "Testing f1: 0.6027\n",
      "Testing Accuracy: 0.6596\n",
      "Testing Confusion Matrix:\n"
     ]
    },
    {
     "data": {
      "image/png": "[encoded data removed]",
      "text/plain": [
       "<Figure size 432x288 with 2 Axes>"
      ]
     },
     "metadata": {
      "needs_background": "light"
     },
     "output_type": "display_data"
    }
   ],
   "source": [
    "# checking\n",
    "\n",
    "# model, ovo\n",
    "clf = SVC(**best)\n",
    "clf.fit(X_train, y_train)\n",
    "\n",
    "# make predictions\n",
    "y_train_pred = clf.predict(X_train)\n",
    "y_test_pred = clf.predict(X_test) \n",
    "\n",
    "# metrics\n",
    "# training\n",
    "print('-'*50)\n",
    "print('Training f1: {0:.4f}'.format(f1_score(y_train, y_train_pred, average='weighted')))\n",
    "print('Training Accuracy: {0:.4f}'.format(accuracy_score(y_train, y_train_pred)))\n",
    "# testing\n",
    "print('-'*50)\n",
    "print('Testing f1: {0:.4f}'.format(f1_score(y_test, y_test_pred, average='weighted')))\n",
    "print('Testing Accuracy: {0:.4f}'.format(accuracy_score(y_test, y_test_pred)))\n",
    "print('Testing Confusion Matrix:')\n",
    "disp = plot_confusion_matrix(clf, X_test, y_test,\n",
    "                                 cmap=plt.cm.Blues,\n",
    "                                 normalize='true')\n",
    "plt.show()"
   ]
  },
  {
   "cell_type": "code",
   "execution_count": 17,
   "metadata": {},
   "outputs": [
    {
     "name": "stdout",
     "output_type": "stream",
     "text": [
      "Fitting 3 folds for each of 8 candidates, totalling 24 fits\n"
     ]
    },
    {
     "name": "stderr",
     "output_type": "stream",
     "text": [
      "[Parallel(n_jobs=-1)]: Using backend LokyBackend with 64 concurrent workers.\n",
      "[Parallel(n_jobs=-1)]: Done  14 out of  24 | elapsed:  3.1min remaining:  2.2min\n",
      "[Parallel(n_jobs=-1)]: Done  24 out of  24 | elapsed:  3.3min finished\n"
     ]
    },
    {
     "data": {
      "text/plain": [
       "{'C': 1.0, 'decision_function_shape': 'ovo', 'degree': 5, 'kernel': 'poly'}"
      ]
     },
     "execution_count": 17,
     "metadata": {},
     "output_type": "execute_result"
    }
   ],
   "source": [
    "# Create the parameter grid based on the results of random search \n",
    "param_grid = {\n",
    "    'C': [0.8, 1.0],\n",
    "    'kernel': ['poly'],\n",
    "    'degree': [2, 3, 4, 5],\n",
    "    'decision_function_shape': ['ovo']\n",
    "}\n",
    "# model\n",
    "svm = SVC()\n",
    "# Instantiate the grid search model\n",
    "grid_search = GridSearchCV(estimator = svm, param_grid = param_grid, \n",
    "                          cv = 3, n_jobs = -1, verbose = 2, scoring='accuracy')\n",
    "\n",
    "grid_search.fit(X_train, y_train)\n",
    "\n",
    "best2 = grid_search.best_params_\n",
    "best2"
   ]
  },
  {
   "cell_type": "code",
   "execution_count": 18,
   "metadata": {},
   "outputs": [
    {
     "name": "stdout",
     "output_type": "stream",
     "text": [
      "--------------------------------------------------\n",
      "Training f1: 0.6640\n",
      "Training Accuracy: 0.7017\n",
      "--------------------------------------------------\n",
      "Testing f1: 0.6172\n",
      "Testing Accuracy: 0.6637\n",
      "Testing Confusion Matrix:\n"
     ]
    },
    {
     "data": {
      "image/png": "[encoded data removed]",
      "text/plain": [
       "<Figure size 432x288 with 2 Axes>"
      ]
     },
     "metadata": {
      "needs_background": "light"
     },
     "output_type": "display_data"
    }
   ],
   "source": [
    "# checking\n",
    "\n",
    "# model, ovo\n",
    "clf = SVC(**best2)\n",
    "clf.fit(X_train, y_train)\n",
    "\n",
    "# make predictions\n",
    "y_train_pred = clf.predict(X_train)\n",
    "y_test_pred = clf.predict(X_test) \n",
    "\n",
    "# metrics\n",
    "# training\n",
    "print('-'*50)\n",
    "print('Training f1: {0:.4f}'.format(f1_score(y_train, y_train_pred, average='weighted')))\n",
    "print('Training Accuracy: {0:.4f}'.format(accuracy_score(y_train, y_train_pred)))\n",
    "# testing\n",
    "print('-'*50)\n",
    "print('Testing f1: {0:.4f}'.format(f1_score(y_test, y_test_pred, average='weighted')))\n",
    "print('Testing Accuracy: {0:.4f}'.format(accuracy_score(y_test, y_test_pred)))\n",
    "print('Testing Confusion Matrix:')\n",
    "disp = plot_confusion_matrix(clf, X_test, y_test,\n",
    "                                 cmap=plt.cm.Blues,\n",
    "                                 normalize='true')\n",
    "plt.show()"
   ]
  },
  {
   "cell_type": "code",
   "execution_count": 19,
   "metadata": {},
   "outputs": [
    {
     "name": "stdout",
     "output_type": "stream",
     "text": [
      "Fitting 3 folds for each of 3 candidates, totalling 9 fits\n"
     ]
    },
    {
     "name": "stderr",
     "output_type": "stream",
     "text": [
      "[Parallel(n_jobs=-1)]: Using backend LokyBackend with 64 concurrent workers.\n",
      "[Parallel(n_jobs=-1)]: Done   2 out of   9 | elapsed:  2.6min remaining:  9.2min\n",
      "[Parallel(n_jobs=-1)]: Done   7 out of   9 | elapsed:  3.0min remaining:   51.8s\n",
      "[Parallel(n_jobs=-1)]: Done   9 out of   9 | elapsed:  3.1min finished\n"
     ]
    },
    {
     "data": {
      "text/plain": [
       "{'C': 1.0, 'decision_function_shape': 'ovo', 'degree': 5, 'kernel': 'poly'}"
      ]
     },
     "execution_count": 19,
     "metadata": {},
     "output_type": "execute_result"
    }
   ],
   "source": [
    "# Create the parameter grid based on the results of random search \n",
    "param_grid = {\n",
    "    'C': [1.0],\n",
    "    'kernel': ['poly'],\n",
    "    'degree': [5, 6, 7],\n",
    "    'decision_function_shape': ['ovo']\n",
    "}\n",
    "# model\n",
    "svm = SVC()\n",
    "# Instantiate the grid search model\n",
    "grid_search = GridSearchCV(estimator = svm, param_grid = param_grid, \n",
    "                          cv = 3, n_jobs = -1, verbose = 2, scoring='accuracy')\n",
    "\n",
    "grid_search.fit(X_train, y_train)\n",
    "\n",
    "best3 = grid_search.best_params_\n",
    "best3"
   ]
  },
  {
   "cell_type": "code",
   "execution_count": null,
   "metadata": {},
   "outputs": [],
   "source": []
  }
 ],
 "metadata": {
  "kernelspec": {
   "display_name": "Python 3",
   "language": "python",
   "name": "python3"
  },
  "language_info": {
   "codemirror_mode": {
    "name": "ipython",
    "version": 3
   },
   "file_extension": ".py",
   "mimetype": "text/x-python",
   "name": "python",
   "nbconvert_exporter": "python",
   "pygments_lexer": "ipython3",
   "version": "3.7.6"
  }
 },
 "nbformat": 4,
 "nbformat_minor": 4
}
