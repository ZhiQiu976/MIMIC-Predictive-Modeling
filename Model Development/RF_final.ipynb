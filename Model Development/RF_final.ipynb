{
 "cells": [
  {
   "cell_type": "markdown",
   "metadata": {},
   "source": [
    "## Random Forest  - Model Development & Tuning\n",
    "\n",
    "**Results**\n",
    "- Accuracy and F1 on train data both reaches 0.980 in final model.\n",
    "- When switched to test data, accuracy is 0.675, F1 dropped to 0.637.\n",
    "- Tuned on n_estimators from 500-1500 (223.2min）, improved accuracy on test only to 0.677, overfitting still exists.\n",
    "\n",
    "**Hyperparameters Tuning**\n",
    "\n",
    "- bootstrap: [True, False],\n",
    "- max_depth\n",
    "- max_features : ['auto', 'sqrt']\n",
    "- min_samples_leaf\n",
    "- min_samples_split\n",
    "- n_estimators"
   ]
  },
  {
   "cell_type": "code",
   "execution_count": 2,
   "metadata": {},
   "outputs": [],
   "source": [
    "import pandas as pd\n",
    "import numpy as np\n",
    "from sklearn.metrics import accuracy_score, f1_score, confusion_matrix\n",
    "from sklearn.model_selection import (\n",
    "    RandomizedSearchCV, \n",
    "    GridSearchCV\n",
    ")\n",
    "from sklearn.ensemble import RandomForestClassifier\n",
    "from sklearn.model_selection import cross_val_score"
   ]
  },
  {
   "cell_type": "code",
   "execution_count": 3,
   "metadata": {},
   "outputs": [],
   "source": [
    "X_train = pd.read_csv('X_train.csv', index_col=0)\n",
    "X_test = pd.read_csv('X_test.csv', index_col=0)\n",
    "y_train = pd.read_csv('y_train.csv', index_col=0).squeeze()\n",
    "y_test = pd.read_csv('y_test.csv', index_col=0).squeeze()"
   ]
  },
  {
   "cell_type": "code",
   "execution_count": 4,
   "metadata": {},
   "outputs": [
    {
     "data": {
      "text/html": [
       "<div>\n",
       "<style scoped>\n",
       "    .dataframe tbody tr th:only-of-type {\n",
       "        vertical-align: middle;\n",
       "    }\n",
       "\n",
       "    .dataframe tbody tr th {\n",
       "        vertical-align: top;\n",
       "    }\n",
       "\n",
       "    .dataframe thead th {\n",
       "        text-align: right;\n",
       "    }\n",
       "</style>\n",
       "<table border=\"1\" class=\"dataframe\">\n",
       "  <thead>\n",
       "    <tr style=\"text-align: right;\">\n",
       "      <th></th>\n",
       "      <th>HeartRate_Mean</th>\n",
       "      <th>SysBP_Mean</th>\n",
       "      <th>DiasBP_Mean</th>\n",
       "      <th>TempC_Max</th>\n",
       "      <th>RespRate_Mean</th>\n",
       "      <th>Glucose_Mean</th>\n",
       "      <th>ICU_LOS</th>\n",
       "      <th>age</th>\n",
       "      <th>ANIONGAP_min</th>\n",
       "      <th>ANIONGAP_max</th>\n",
       "      <th>...</th>\n",
       "      <th>CHEST PAIN</th>\n",
       "      <th>CONGESTIVE HEART FAILURE</th>\n",
       "      <th>CORONARY ARTERY DISEASE</th>\n",
       "      <th>CORONARY ARTERY DISEASE\\CORONARY ARTERY BYPASS GRAFT /SDA</th>\n",
       "      <th>GASTROINTESTINAL BLEED</th>\n",
       "      <th>INTRACRANIAL HEMORRHAGE</th>\n",
       "      <th>PNEUMONIA</th>\n",
       "      <th>SEPSIS</th>\n",
       "      <th>GENDER_F</th>\n",
       "      <th>GENDER_M</th>\n",
       "    </tr>\n",
       "  </thead>\n",
       "  <tbody>\n",
       "    <tr>\n",
       "      <th>0</th>\n",
       "      <td>89.764706</td>\n",
       "      <td>121.882353</td>\n",
       "      <td>59.411765</td>\n",
       "      <td>37.833332</td>\n",
       "      <td>12.954545</td>\n",
       "      <td>148.0000</td>\n",
       "      <td>0.9278</td>\n",
       "      <td>59.0</td>\n",
       "      <td>12.000000</td>\n",
       "      <td>12.000000</td>\n",
       "      <td>...</td>\n",
       "      <td>0.0</td>\n",
       "      <td>0.0</td>\n",
       "      <td>0.0</td>\n",
       "      <td>0.0</td>\n",
       "      <td>0.0</td>\n",
       "      <td>0.0</td>\n",
       "      <td>0.0</td>\n",
       "      <td>0.0</td>\n",
       "      <td>1.0</td>\n",
       "      <td>0.0</td>\n",
       "    </tr>\n",
       "    <tr>\n",
       "      <th>1</th>\n",
       "      <td>171.000000</td>\n",
       "      <td>119.248137</td>\n",
       "      <td>60.741501</td>\n",
       "      <td>37.507355</td>\n",
       "      <td>18.672821</td>\n",
       "      <td>140.6299</td>\n",
       "      <td>0.1715</td>\n",
       "      <td>0.0</td>\n",
       "      <td>12.976617</td>\n",
       "      <td>15.560846</td>\n",
       "      <td>...</td>\n",
       "      <td>0.0</td>\n",
       "      <td>0.0</td>\n",
       "      <td>0.0</td>\n",
       "      <td>0.0</td>\n",
       "      <td>0.0</td>\n",
       "      <td>0.0</td>\n",
       "      <td>0.0</td>\n",
       "      <td>0.0</td>\n",
       "      <td>0.0</td>\n",
       "      <td>1.0</td>\n",
       "    </tr>\n",
       "    <tr>\n",
       "      <th>2</th>\n",
       "      <td>74.423077</td>\n",
       "      <td>117.560000</td>\n",
       "      <td>65.440000</td>\n",
       "      <td>37.055556</td>\n",
       "      <td>15.344828</td>\n",
       "      <td>110.0000</td>\n",
       "      <td>2.7068</td>\n",
       "      <td>51.0</td>\n",
       "      <td>8.000000</td>\n",
       "      <td>11.000000</td>\n",
       "      <td>...</td>\n",
       "      <td>0.0</td>\n",
       "      <td>0.0</td>\n",
       "      <td>0.0</td>\n",
       "      <td>0.0</td>\n",
       "      <td>0.0</td>\n",
       "      <td>0.0</td>\n",
       "      <td>0.0</td>\n",
       "      <td>0.0</td>\n",
       "      <td>0.0</td>\n",
       "      <td>1.0</td>\n",
       "    </tr>\n",
       "    <tr>\n",
       "      <th>3</th>\n",
       "      <td>86.846154</td>\n",
       "      <td>137.208333</td>\n",
       "      <td>50.833333</td>\n",
       "      <td>37.222222</td>\n",
       "      <td>20.035714</td>\n",
       "      <td>87.0000</td>\n",
       "      <td>4.7950</td>\n",
       "      <td>70.0</td>\n",
       "      <td>9.000000</td>\n",
       "      <td>9.000000</td>\n",
       "      <td>...</td>\n",
       "      <td>0.0</td>\n",
       "      <td>0.0</td>\n",
       "      <td>0.0</td>\n",
       "      <td>0.0</td>\n",
       "      <td>0.0</td>\n",
       "      <td>0.0</td>\n",
       "      <td>0.0</td>\n",
       "      <td>0.0</td>\n",
       "      <td>1.0</td>\n",
       "      <td>0.0</td>\n",
       "    </tr>\n",
       "    <tr>\n",
       "      <th>4</th>\n",
       "      <td>127.962963</td>\n",
       "      <td>119.248137</td>\n",
       "      <td>60.741501</td>\n",
       "      <td>37.507355</td>\n",
       "      <td>18.672821</td>\n",
       "      <td>140.6299</td>\n",
       "      <td>10.1448</td>\n",
       "      <td>0.0</td>\n",
       "      <td>17.000000</td>\n",
       "      <td>17.000000</td>\n",
       "      <td>...</td>\n",
       "      <td>0.0</td>\n",
       "      <td>0.0</td>\n",
       "      <td>0.0</td>\n",
       "      <td>0.0</td>\n",
       "      <td>0.0</td>\n",
       "      <td>0.0</td>\n",
       "      <td>0.0</td>\n",
       "      <td>0.0</td>\n",
       "      <td>0.0</td>\n",
       "      <td>1.0</td>\n",
       "    </tr>\n",
       "  </tbody>\n",
       "</table>\n",
       "<p>5 rows × 84 columns</p>\n",
       "</div>"
      ],
      "text/plain": [
       "   HeartRate_Mean  SysBP_Mean  DiasBP_Mean  TempC_Max  RespRate_Mean  \\\n",
       "0       89.764706  121.882353    59.411765  37.833332      12.954545   \n",
       "1      171.000000  119.248137    60.741501  37.507355      18.672821   \n",
       "2       74.423077  117.560000    65.440000  37.055556      15.344828   \n",
       "3       86.846154  137.208333    50.833333  37.222222      20.035714   \n",
       "4      127.962963  119.248137    60.741501  37.507355      18.672821   \n",
       "\n",
       "   Glucose_Mean  ICU_LOS   age  ANIONGAP_min  ANIONGAP_max  ...  CHEST PAIN  \\\n",
       "0      148.0000   0.9278  59.0     12.000000     12.000000  ...         0.0   \n",
       "1      140.6299   0.1715   0.0     12.976617     15.560846  ...         0.0   \n",
       "2      110.0000   2.7068  51.0      8.000000     11.000000  ...         0.0   \n",
       "3       87.0000   4.7950  70.0      9.000000      9.000000  ...         0.0   \n",
       "4      140.6299  10.1448   0.0     17.000000     17.000000  ...         0.0   \n",
       "\n",
       "   CONGESTIVE HEART FAILURE  CORONARY ARTERY DISEASE  \\\n",
       "0                       0.0                      0.0   \n",
       "1                       0.0                      0.0   \n",
       "2                       0.0                      0.0   \n",
       "3                       0.0                      0.0   \n",
       "4                       0.0                      0.0   \n",
       "\n",
       "   CORONARY ARTERY DISEASE\\CORONARY ARTERY BYPASS GRAFT /SDA  \\\n",
       "0                                                0.0           \n",
       "1                                                0.0           \n",
       "2                                                0.0           \n",
       "3                                                0.0           \n",
       "4                                                0.0           \n",
       "\n",
       "   GASTROINTESTINAL BLEED  INTRACRANIAL HEMORRHAGE  PNEUMONIA  SEPSIS  \\\n",
       "0                     0.0                      0.0        0.0     0.0   \n",
       "1                     0.0                      0.0        0.0     0.0   \n",
       "2                     0.0                      0.0        0.0     0.0   \n",
       "3                     0.0                      0.0        0.0     0.0   \n",
       "4                     0.0                      0.0        0.0     0.0   \n",
       "\n",
       "   GENDER_F  GENDER_M  \n",
       "0       1.0       0.0  \n",
       "1       0.0       1.0  \n",
       "2       0.0       1.0  \n",
       "3       1.0       0.0  \n",
       "4       0.0       1.0  \n",
       "\n",
       "[5 rows x 84 columns]"
      ]
     },
     "execution_count": 4,
     "metadata": {},
     "output_type": "execute_result"
    }
   ],
   "source": [
    "X_train.head()"
   ]
  },
  {
   "cell_type": "code",
   "execution_count": 5,
   "metadata": {},
   "outputs": [
    {
     "data": {
      "text/html": [
       "<div>\n",
       "<style scoped>\n",
       "    .dataframe tbody tr th:only-of-type {\n",
       "        vertical-align: middle;\n",
       "    }\n",
       "\n",
       "    .dataframe tbody tr th {\n",
       "        vertical-align: top;\n",
       "    }\n",
       "\n",
       "    .dataframe thead th {\n",
       "        text-align: right;\n",
       "    }\n",
       "</style>\n",
       "<table border=\"1\" class=\"dataframe\">\n",
       "  <thead>\n",
       "    <tr style=\"text-align: right;\">\n",
       "      <th></th>\n",
       "      <th>HeartRate_Mean</th>\n",
       "      <th>SysBP_Mean</th>\n",
       "      <th>DiasBP_Mean</th>\n",
       "      <th>TempC_Max</th>\n",
       "      <th>RespRate_Mean</th>\n",
       "      <th>Glucose_Mean</th>\n",
       "      <th>ICU_LOS</th>\n",
       "      <th>age</th>\n",
       "      <th>ANIONGAP_min</th>\n",
       "      <th>ANIONGAP_max</th>\n",
       "      <th>...</th>\n",
       "      <th>CHEST PAIN</th>\n",
       "      <th>CONGESTIVE HEART FAILURE</th>\n",
       "      <th>CORONARY ARTERY DISEASE</th>\n",
       "      <th>CORONARY ARTERY DISEASE\\CORONARY ARTERY BYPASS GRAFT /SDA</th>\n",
       "      <th>GASTROINTESTINAL BLEED</th>\n",
       "      <th>INTRACRANIAL HEMORRHAGE</th>\n",
       "      <th>PNEUMONIA</th>\n",
       "      <th>SEPSIS</th>\n",
       "      <th>GENDER_F</th>\n",
       "      <th>GENDER_M</th>\n",
       "    </tr>\n",
       "  </thead>\n",
       "  <tbody>\n",
       "    <tr>\n",
       "      <th>0</th>\n",
       "      <td>69.476190</td>\n",
       "      <td>144.333333</td>\n",
       "      <td>57.714286</td>\n",
       "      <td>36.555557</td>\n",
       "      <td>18.380952</td>\n",
       "      <td>144.000000</td>\n",
       "      <td>24.6678</td>\n",
       "      <td>63.0</td>\n",
       "      <td>16.000000</td>\n",
       "      <td>16.000000</td>\n",
       "      <td>...</td>\n",
       "      <td>0.0</td>\n",
       "      <td>0.0</td>\n",
       "      <td>0.0</td>\n",
       "      <td>0.0</td>\n",
       "      <td>0.0</td>\n",
       "      <td>0.0</td>\n",
       "      <td>0.0</td>\n",
       "      <td>0.0</td>\n",
       "      <td>0.0</td>\n",
       "      <td>1.0</td>\n",
       "    </tr>\n",
       "    <tr>\n",
       "      <th>1</th>\n",
       "      <td>141.000000</td>\n",
       "      <td>119.248137</td>\n",
       "      <td>60.741501</td>\n",
       "      <td>37.507355</td>\n",
       "      <td>18.672821</td>\n",
       "      <td>89.000000</td>\n",
       "      <td>0.1286</td>\n",
       "      <td>0.0</td>\n",
       "      <td>12.976617</td>\n",
       "      <td>15.560846</td>\n",
       "      <td>...</td>\n",
       "      <td>0.0</td>\n",
       "      <td>0.0</td>\n",
       "      <td>0.0</td>\n",
       "      <td>0.0</td>\n",
       "      <td>0.0</td>\n",
       "      <td>0.0</td>\n",
       "      <td>0.0</td>\n",
       "      <td>0.0</td>\n",
       "      <td>0.0</td>\n",
       "      <td>1.0</td>\n",
       "    </tr>\n",
       "    <tr>\n",
       "      <th>2</th>\n",
       "      <td>100.571429</td>\n",
       "      <td>109.210526</td>\n",
       "      <td>66.368421</td>\n",
       "      <td>39.222222</td>\n",
       "      <td>22.857143</td>\n",
       "      <td>168.000000</td>\n",
       "      <td>0.8547</td>\n",
       "      <td>34.0</td>\n",
       "      <td>17.000000</td>\n",
       "      <td>17.000000</td>\n",
       "      <td>...</td>\n",
       "      <td>0.0</td>\n",
       "      <td>0.0</td>\n",
       "      <td>0.0</td>\n",
       "      <td>0.0</td>\n",
       "      <td>0.0</td>\n",
       "      <td>0.0</td>\n",
       "      <td>0.0</td>\n",
       "      <td>0.0</td>\n",
       "      <td>1.0</td>\n",
       "      <td>0.0</td>\n",
       "    </tr>\n",
       "    <tr>\n",
       "      <th>3</th>\n",
       "      <td>75.857143</td>\n",
       "      <td>108.750000</td>\n",
       "      <td>63.142857</td>\n",
       "      <td>39.000000</td>\n",
       "      <td>17.793103</td>\n",
       "      <td>128.294118</td>\n",
       "      <td>1.0936</td>\n",
       "      <td>40.0</td>\n",
       "      <td>9.000000</td>\n",
       "      <td>9.000000</td>\n",
       "      <td>...</td>\n",
       "      <td>0.0</td>\n",
       "      <td>0.0</td>\n",
       "      <td>0.0</td>\n",
       "      <td>0.0</td>\n",
       "      <td>0.0</td>\n",
       "      <td>0.0</td>\n",
       "      <td>0.0</td>\n",
       "      <td>0.0</td>\n",
       "      <td>0.0</td>\n",
       "      <td>1.0</td>\n",
       "    </tr>\n",
       "    <tr>\n",
       "      <th>4</th>\n",
       "      <td>153.280000</td>\n",
       "      <td>119.248137</td>\n",
       "      <td>60.741501</td>\n",
       "      <td>37.507355</td>\n",
       "      <td>18.672821</td>\n",
       "      <td>140.629900</td>\n",
       "      <td>8.1058</td>\n",
       "      <td>0.0</td>\n",
       "      <td>12.976617</td>\n",
       "      <td>15.560846</td>\n",
       "      <td>...</td>\n",
       "      <td>0.0</td>\n",
       "      <td>0.0</td>\n",
       "      <td>0.0</td>\n",
       "      <td>0.0</td>\n",
       "      <td>0.0</td>\n",
       "      <td>0.0</td>\n",
       "      <td>0.0</td>\n",
       "      <td>0.0</td>\n",
       "      <td>1.0</td>\n",
       "      <td>0.0</td>\n",
       "    </tr>\n",
       "  </tbody>\n",
       "</table>\n",
       "<p>5 rows × 84 columns</p>\n",
       "</div>"
      ],
      "text/plain": [
       "   HeartRate_Mean  SysBP_Mean  DiasBP_Mean  TempC_Max  RespRate_Mean  \\\n",
       "0       69.476190  144.333333    57.714286  36.555557      18.380952   \n",
       "1      141.000000  119.248137    60.741501  37.507355      18.672821   \n",
       "2      100.571429  109.210526    66.368421  39.222222      22.857143   \n",
       "3       75.857143  108.750000    63.142857  39.000000      17.793103   \n",
       "4      153.280000  119.248137    60.741501  37.507355      18.672821   \n",
       "\n",
       "   Glucose_Mean  ICU_LOS   age  ANIONGAP_min  ANIONGAP_max  ...  CHEST PAIN  \\\n",
       "0    144.000000  24.6678  63.0     16.000000     16.000000  ...         0.0   \n",
       "1     89.000000   0.1286   0.0     12.976617     15.560846  ...         0.0   \n",
       "2    168.000000   0.8547  34.0     17.000000     17.000000  ...         0.0   \n",
       "3    128.294118   1.0936  40.0      9.000000      9.000000  ...         0.0   \n",
       "4    140.629900   8.1058   0.0     12.976617     15.560846  ...         0.0   \n",
       "\n",
       "   CONGESTIVE HEART FAILURE  CORONARY ARTERY DISEASE  \\\n",
       "0                       0.0                      0.0   \n",
       "1                       0.0                      0.0   \n",
       "2                       0.0                      0.0   \n",
       "3                       0.0                      0.0   \n",
       "4                       0.0                      0.0   \n",
       "\n",
       "   CORONARY ARTERY DISEASE\\CORONARY ARTERY BYPASS GRAFT /SDA  \\\n",
       "0                                                0.0           \n",
       "1                                                0.0           \n",
       "2                                                0.0           \n",
       "3                                                0.0           \n",
       "4                                                0.0           \n",
       "\n",
       "   GASTROINTESTINAL BLEED  INTRACRANIAL HEMORRHAGE  PNEUMONIA  SEPSIS  \\\n",
       "0                     0.0                      0.0        0.0     0.0   \n",
       "1                     0.0                      0.0        0.0     0.0   \n",
       "2                     0.0                      0.0        0.0     0.0   \n",
       "3                     0.0                      0.0        0.0     0.0   \n",
       "4                     0.0                      0.0        0.0     0.0   \n",
       "\n",
       "   GENDER_F  GENDER_M  \n",
       "0       0.0       1.0  \n",
       "1       0.0       1.0  \n",
       "2       1.0       0.0  \n",
       "3       0.0       1.0  \n",
       "4       1.0       0.0  \n",
       "\n",
       "[5 rows x 84 columns]"
      ]
     },
     "execution_count": 5,
     "metadata": {},
     "output_type": "execute_result"
    }
   ],
   "source": [
    "X_test.head()"
   ]
  },
  {
   "cell_type": "code",
   "execution_count": 86,
   "metadata": {},
   "outputs": [
    {
     "data": {
      "text/plain": [
       "RandomForestClassifier()"
      ]
     },
     "execution_count": 86,
     "metadata": {},
     "output_type": "execute_result"
    }
   ],
   "source": [
    "rf = RandomForestClassifier()\n",
    "rf.fit(X_train, y_train)"
   ]
  },
  {
   "cell_type": "code",
   "execution_count": 87,
   "metadata": {},
   "outputs": [],
   "source": [
    "pred_tr = rf.predict(X_train)\n",
    "pred_te = rf.predict(X_test)"
   ]
  },
  {
   "cell_type": "code",
   "execution_count": 88,
   "metadata": {},
   "outputs": [
    {
     "name": "stdout",
     "output_type": "stream",
     "text": [
      "Train accuracy:0.99949\n",
      "Train F1:0.99949\n",
      "Test accuracy:0.67315\n",
      "Test F1:0.63448\n"
     ]
    }
   ],
   "source": [
    "print('Train accuracy:{}'.format(round(accuracy_score(y_train, pred_tr),5)))\n",
    "print('Train F1:{}'.format(round(f1_score(y_train, pred_tr, average='weighted'),5)))\n",
    "print('Test accuracy:{}'.format(round(accuracy_score(y_test, pred_te),5)))\n",
    "print('Test F1:{}'.format(round(f1_score(y_test, pred_te, average='weighted'),5)))"
   ]
  },
  {
   "cell_type": "markdown",
   "metadata": {},
   "source": [
    "## Hyper parameter tuning"
   ]
  },
  {
   "cell_type": "code",
   "execution_count": 3,
   "metadata": {},
   "outputs": [],
   "source": [
    "from numpy import mean\n",
    "from numpy import arange\n",
    "from sklearn.datasets import make_classification\n",
    "from sklearn.model_selection import cross_val_score\n",
    "from sklearn.model_selection import RepeatedStratifiedKFold\n",
    "from sklearn.ensemble import RandomForestClassifier\n",
    "from sklearn.model_selection import RandomizedSearchCV\n",
    "from sklearn.metrics import classification_report"
   ]
  },
  {
   "cell_type": "code",
   "execution_count": 4,
   "metadata": {},
   "outputs": [],
   "source": [
    "# Number of trees in random forest\n",
    "n_estimators = [int(x) for x in range(500,1600,200)]\n",
    "#n_estimators = [1150, 1200, 1250, 1300,1350]\n",
    "# Number of features to consider at every split\n",
    "max_features = ['auto', 'sqrt']\n",
    "# Maximum number of levels in tree\n",
    "max_depth = [int(x) for x in np.linspace(10, 110, num = 11)]\n",
    "max_depth.append(None)\n",
    "# Minimum number of samples required to split a node\n",
    "min_samples_split = [2, 5, 10]\n",
    "# Minimum number of samples required at each leaf node\n",
    "min_samples_leaf = [1, 2, 4]\n",
    "# Method of selecting samples for training each tree\n",
    "bootstrap = [True, False]\n"
   ]
  },
  {
   "cell_type": "code",
   "execution_count": 5,
   "metadata": {},
   "outputs": [
    {
     "name": "stdout",
     "output_type": "stream",
     "text": [
      "{'n_estimators': [500, 700, 900, 1100, 1300, 1500], 'max_features': ['auto', 'sqrt'], 'max_depth': [10, 20, 30, 40, 50, 60, 70, 80, 90, 100, 110, None], 'min_samples_split': [2, 5, 10], 'min_samples_leaf': [1, 2, 4], 'bootstrap': [True, False]}\n"
     ]
    }
   ],
   "source": [
    "# Create the random grid\n",
    "random_grid = {'n_estimators': n_estimators,\n",
    "               'max_features': max_features,\n",
    "               'max_depth': max_depth,\n",
    "               'min_samples_split': min_samples_split,\n",
    "               'min_samples_leaf': min_samples_leaf,\n",
    "               'bootstrap': bootstrap}\n",
    "print(random_grid)"
   ]
  },
  {
   "cell_type": "code",
   "execution_count": 6,
   "metadata": {},
   "outputs": [
    {
     "name": "stdout",
     "output_type": "stream",
     "text": [
      "Fitting 3 folds for each of 100 candidates, totalling 300 fits\n"
     ]
    },
    {
     "name": "stderr",
     "output_type": "stream",
     "text": [
      "[Parallel(n_jobs=-1)]: Using backend LokyBackend with 4 concurrent workers.\n",
      "[Parallel(n_jobs=-1)]: Done  33 tasks      | elapsed: 61.0min\n",
      "[Parallel(n_jobs=-1)]: Done 154 tasks      | elapsed: 134.1min\n",
      "[Parallel(n_jobs=-1)]: Done 300 out of 300 | elapsed: 223.2min finished\n"
     ]
    },
    {
     "data": {
      "text/plain": [
       "RandomizedSearchCV(cv=3, error_score='raise-deprecating',\n",
       "                   estimator=RandomForestClassifier(bootstrap=True,\n",
       "                                                    class_weight=None,\n",
       "                                                    criterion='gini',\n",
       "                                                    max_depth=None,\n",
       "                                                    max_features='auto',\n",
       "                                                    max_leaf_nodes=None,\n",
       "                                                    min_impurity_decrease=0.0,\n",
       "                                                    min_impurity_split=None,\n",
       "                                                    min_samples_leaf=1,\n",
       "                                                    min_samples_split=2,\n",
       "                                                    min_weight_fraction_leaf=0.0,\n",
       "                                                    n_estimators='warn',\n",
       "                                                    n_jobs=None,\n",
       "                                                    oob_sc...\n",
       "                   iid='warn', n_iter=100, n_jobs=-1,\n",
       "                   param_distributions={'bootstrap': [True, False],\n",
       "                                        'max_depth': [10, 20, 30, 40, 50, 60,\n",
       "                                                      70, 80, 90, 100, 110,\n",
       "                                                      None],\n",
       "                                        'max_features': ['auto', 'sqrt'],\n",
       "                                        'min_samples_leaf': [1, 2, 4],\n",
       "                                        'min_samples_split': [2, 5, 10],\n",
       "                                        'n_estimators': [500, 700, 900, 1100,\n",
       "                                                         1300, 1500]},\n",
       "                   pre_dispatch='2*n_jobs', random_state=42, refit=True,\n",
       "                   return_train_score=False, scoring=None, verbose=2)"
      ]
     },
     "execution_count": 6,
     "metadata": {},
     "output_type": "execute_result"
    }
   ],
   "source": [
    "# Use the random grid to search for best hyperparameters\n",
    "# First create the base model to tune\n",
    "rf = RandomForestClassifier()\n",
    "# Random search of parameters, using 3 fold cross validation, \n",
    "# search across 100 different combinations, and use all available cores\n",
    "rf_random = RandomizedSearchCV(estimator = rf, param_distributions = random_grid, n_iter = 100, cv = 3, verbose=2, random_state=42, n_jobs = -1)\n",
    "# Fit the random search model\n",
    "rf_random.fit(X_train, y_train)"
   ]
  },
  {
   "cell_type": "code",
   "execution_count": 9,
   "metadata": {},
   "outputs": [
    {
     "data": {
      "text/plain": [
       "{'n_estimators': 1100,\n",
       " 'min_samples_split': 10,\n",
       " 'min_samples_leaf': 2,\n",
       " 'max_features': 'sqrt',\n",
       " 'max_depth': 50,\n",
       " 'bootstrap': False}"
      ]
     },
     "execution_count": 9,
     "metadata": {},
     "output_type": "execute_result"
    }
   ],
   "source": [
    "rf_random.best_params_"
   ]
  },
  {
   "cell_type": "code",
   "execution_count": 10,
   "metadata": {},
   "outputs": [
    {
     "name": "stdout",
     "output_type": "stream",
     "text": [
      "------------------- Train -------------------\n",
      "Train accuracy:0.9889\n",
      "Train F1:0.98887\n",
      "              precision    recall  f1-score   support\n",
      "\n",
      "        HOME       0.98      1.00      0.99     21858\n",
      "         SNF       1.00      0.97      0.98      4437\n",
      "      Others       1.00      0.97      0.98      7407\n",
      "        Dead       1.00      0.99      0.99      3514\n",
      "\n",
      "    accuracy                           0.99     37216\n",
      "   macro avg       0.99      0.98      0.99     37216\n",
      "weighted avg       0.99      0.99      0.99     37216\n",
      "\n",
      "------------------- Test ------------------- \n",
      "Test accuracy:0.67767\n",
      "Test F1:0.64019\n",
      "              precision    recall  f1-score   support\n",
      "\n",
      "        HOME       0.73      0.94      0.82      5464\n",
      "         SNF       0.45      0.29      0.35      1109\n",
      "      Others       0.52      0.29      0.37      1852\n",
      "        Dead       0.65      0.35      0.45       879\n",
      "\n",
      "    accuracy                           0.68      9304\n",
      "   macro avg       0.59      0.47      0.50      9304\n",
      "weighted avg       0.64      0.68      0.64      9304\n",
      "\n"
     ]
    }
   ],
   "source": [
    "def evaluate(model, test_features, test_labels, train_features, train_labels):\n",
    "    pred_te = model.predict(test_features)\n",
    "    pred_tr = model.predict(train_features)\n",
    "    \n",
    "    target_names = ['HOME', 'SNF', 'Others','Dead']\n",
    "    print('------------------- Train -------------------')\n",
    "    print('Train accuracy:{}'.format(round(accuracy_score(y_train, pred_tr),5)))\n",
    "    print('Train F1:{}'.format(round(f1_score(y_train, pred_tr,average='weighted'),5)))\n",
    "    print(classification_report(train_labels, pred_tr, target_names=target_names))\n",
    "    \n",
    "    print('------------------- Test ------------------- ')   \n",
    "    print('Test accuracy:{}'.format(round(accuracy_score(y_test, pred_te),5)))\n",
    "    print('Test F1:{}'.format(round(f1_score(y_test, pred_te,average='weighted'),5)))\n",
    "    print(classification_report(test_labels, pred_te, target_names=target_names))\n",
    "\n",
    "best_random = rf_random.best_estimator_\n",
    "evaluate(best_random, X_test, y_test, X_train, y_train)"
   ]
  },
  {
   "cell_type": "markdown",
   "metadata": {},
   "source": [
    "## Optimal Model"
   ]
  },
  {
   "cell_type": "code",
   "execution_count": 6,
   "metadata": {},
   "outputs": [
    {
     "data": {
      "text/plain": [
       "RandomForestClassifier(bootstrap=False, max_depth=50, max_features='sqrt',\n",
       "                       min_samples_leaf=2, min_samples_split=10,\n",
       "                       n_estimators=1100)"
      ]
     },
     "execution_count": 6,
     "metadata": {},
     "output_type": "execute_result"
    }
   ],
   "source": [
    "rf_final = RandomForestClassifier(n_estimators = 1100,\n",
    " min_samples_split= 10,\n",
    " min_samples_leaf= 2,\n",
    " max_features= 'sqrt',\n",
    " max_depth= 50,\n",
    " bootstrap= False)\n",
    "rf_final.fit(X_train, y_train)"
   ]
  },
  {
   "cell_type": "code",
   "execution_count": 7,
   "metadata": {},
   "outputs": [],
   "source": [
    "pred_tr_fl = rf_final.predict(X_train)\n",
    "pred_te_fl = rf_final.predict(X_test)"
   ]
  },
  {
   "cell_type": "code",
   "execution_count": 8,
   "metadata": {},
   "outputs": [
    {
     "name": "stdout",
     "output_type": "stream",
     "text": [
      "Train accuracy:0.98917\n",
      "Train F1:0.98914\n",
      "Test accuracy:0.67885\n",
      "Test F1:0.64147\n"
     ]
    }
   ],
   "source": [
    "print('Train accuracy:{}'.format(round(accuracy_score(y_train, pred_tr_fl),5)))\n",
    "print('Train F1:{}'.format(round(f1_score(y_train, pred_tr_fl, average='weighted'),5)))\n",
    "print('Test accuracy:{}'.format(round(accuracy_score(y_test, pred_te_fl),5)))\n",
    "print('Test F1:{}'.format(round(f1_score(y_test, pred_te_fl, average='weighted'),5)))"
   ]
  },
  {
   "cell_type": "code",
   "execution_count": 9,
   "metadata": {},
   "outputs": [],
   "source": [
    "import pickle"
   ]
  },
  {
   "cell_type": "code",
   "execution_count": 11,
   "metadata": {},
   "outputs": [],
   "source": [
    "def model_save(model, pickle_file):\n",
    "    \"\"\"Save compiled models for reuse.\"\"\"\n",
    "    \n",
    "    with open(pickle_file, 'wb') as f:\n",
    "        pickle.dump(model, f)\n",
    "\n",
    "model_save(rf_final, 'rf.pickle')"
   ]
  },
  {
   "cell_type": "code",
   "execution_count": null,
   "metadata": {},
   "outputs": [],
   "source": []
  }
 ],
 "metadata": {
  "kernelspec": {
   "display_name": "Python 3",
   "language": "python",
   "name": "python3"
  },
  "language_info": {
   "codemirror_mode": {
    "name": "ipython",
    "version": 3
   },
   "file_extension": ".py",
   "mimetype": "text/x-python",
   "name": "python",
   "nbconvert_exporter": "python",
   "pygments_lexer": "ipython3",
   "version": "3.7.8"
  }
 },
 "nbformat": 4,
 "nbformat_minor": 4
}
