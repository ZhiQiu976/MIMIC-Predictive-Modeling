{
 "cells": [
  {
   "cell_type": "markdown",
   "metadata": {},
   "source": [
    "## EDA (updates from Heather's version)\n",
    "- 1 - The variable of hospital length of stay is deleted from this version to avoid data leakage.\n",
    "- 2 - The lab data is added to the dataset and the accuracy and f1 score on the training dataset and testing dataset slightly improve.\n",
    "- 3 - The overall accuracy without lab data is 63.7% and the overall accuracy with lab data is 64.3% on the training dataset. The overall accuracy without lab data is 63.6% and the overall accuracy with lab data is 64.8% on the test dataset.\n",
    "- 4 - The f1 score without lab data is 0.583 and the f1 score with lab data is 0.591 on the training dataset. The f1 score without lab data is 0.580 and the f1 score with lab data is 0.594."
   ]
  },
  {
   "cell_type": "code",
   "execution_count": 1,
   "metadata": {},
   "outputs": [],
   "source": [
    "import numpy as np\n",
    "import pandas as pd"
   ]
  },
  {
   "cell_type": "code",
   "execution_count": 2,
   "metadata": {},
   "outputs": [],
   "source": [
    "df = pd.read_csv(\"processed_data1.csv\", index_col=0)"
   ]
  },
  {
   "cell_type": "code",
   "execution_count": 3,
   "metadata": {},
   "outputs": [],
   "source": [
    "lab = pd.read_csv(\"lab.csv\", index_col=0)"
   ]
  },
  {
   "cell_type": "code",
   "execution_count": 4,
   "metadata": {},
   "outputs": [],
   "source": [
    "df = df.merge(lab, how='left', on = 'icustay_id')"
   ]
  },
  {
   "cell_type": "code",
   "execution_count": 5,
   "metadata": {},
   "outputs": [
    {
     "data": {
      "text/html": [
       "<div>\n",
       "<style scoped>\n",
       "    .dataframe tbody tr th:only-of-type {\n",
       "        vertical-align: middle;\n",
       "    }\n",
       "\n",
       "    .dataframe tbody tr th {\n",
       "        vertical-align: top;\n",
       "    }\n",
       "\n",
       "    .dataframe thead th {\n",
       "        text-align: right;\n",
       "    }\n",
       "</style>\n",
       "<table border=\"1\" class=\"dataframe\">\n",
       "  <thead>\n",
       "    <tr style=\"text-align: right;\">\n",
       "      <th></th>\n",
       "      <th>ROW_ID</th>\n",
       "      <th>SUBJECT_ID</th>\n",
       "      <th>HADM_ID</th>\n",
       "      <th>ADMITTIME</th>\n",
       "      <th>DISCHTIME</th>\n",
       "      <th>DEATHTIME</th>\n",
       "      <th>ADMISSION_TYPE</th>\n",
       "      <th>ADMISSION_LOCATION</th>\n",
       "      <th>DISCHARGE_LOCATION</th>\n",
       "      <th>INSURANCE</th>\n",
       "      <th>...</th>\n",
       "      <th>INR_min</th>\n",
       "      <th>INR_max</th>\n",
       "      <th>PT_min</th>\n",
       "      <th>PT_max</th>\n",
       "      <th>SODIUM_min</th>\n",
       "      <th>SODIUM_max</th>\n",
       "      <th>BUN_min</th>\n",
       "      <th>BUN_max</th>\n",
       "      <th>WBC_min</th>\n",
       "      <th>WBC_max</th>\n",
       "    </tr>\n",
       "  </thead>\n",
       "  <tbody>\n",
       "    <tr>\n",
       "      <th>0</th>\n",
       "      <td>1</td>\n",
       "      <td>2</td>\n",
       "      <td>163353</td>\n",
       "      <td>2138-07-17 19:04:00</td>\n",
       "      <td>2138-07-21 15:48:00</td>\n",
       "      <td>NaN</td>\n",
       "      <td>NEWBORN</td>\n",
       "      <td>PHYS REFERRAL/NORMAL DELI</td>\n",
       "      <td>HOME</td>\n",
       "      <td>Private</td>\n",
       "      <td>...</td>\n",
       "      <td>NaN</td>\n",
       "      <td>NaN</td>\n",
       "      <td>NaN</td>\n",
       "      <td>NaN</td>\n",
       "      <td>NaN</td>\n",
       "      <td>NaN</td>\n",
       "      <td>NaN</td>\n",
       "      <td>NaN</td>\n",
       "      <td>0.1</td>\n",
       "      <td>22.0</td>\n",
       "    </tr>\n",
       "    <tr>\n",
       "      <th>1</th>\n",
       "      <td>2</td>\n",
       "      <td>3</td>\n",
       "      <td>145834</td>\n",
       "      <td>2101-10-20 19:08:00</td>\n",
       "      <td>2101-10-31 13:58:00</td>\n",
       "      <td>NaN</td>\n",
       "      <td>EMERGENCY</td>\n",
       "      <td>EMERGENCY ROOM ADMIT</td>\n",
       "      <td>SNF</td>\n",
       "      <td>Medicare</td>\n",
       "      <td>...</td>\n",
       "      <td>1.3</td>\n",
       "      <td>1.7</td>\n",
       "      <td>13.5</td>\n",
       "      <td>15.7</td>\n",
       "      <td>136.0</td>\n",
       "      <td>153.0</td>\n",
       "      <td>41.0</td>\n",
       "      <td>53.0</td>\n",
       "      <td>11.3</td>\n",
       "      <td>24.4</td>\n",
       "    </tr>\n",
       "    <tr>\n",
       "      <th>2</th>\n",
       "      <td>3</td>\n",
       "      <td>4</td>\n",
       "      <td>185777</td>\n",
       "      <td>2191-03-16 00:28:00</td>\n",
       "      <td>2191-03-23 18:41:00</td>\n",
       "      <td>NaN</td>\n",
       "      <td>EMERGENCY</td>\n",
       "      <td>EMERGENCY ROOM ADMIT</td>\n",
       "      <td>HOME WITH HOME IV PROVIDR</td>\n",
       "      <td>Private</td>\n",
       "      <td>...</td>\n",
       "      <td>1.1</td>\n",
       "      <td>1.1</td>\n",
       "      <td>12.8</td>\n",
       "      <td>12.8</td>\n",
       "      <td>141.0</td>\n",
       "      <td>141.0</td>\n",
       "      <td>10.0</td>\n",
       "      <td>10.0</td>\n",
       "      <td>9.7</td>\n",
       "      <td>9.7</td>\n",
       "    </tr>\n",
       "    <tr>\n",
       "      <th>3</th>\n",
       "      <td>4</td>\n",
       "      <td>5</td>\n",
       "      <td>178980</td>\n",
       "      <td>2103-02-02 04:31:00</td>\n",
       "      <td>2103-02-04 12:15:00</td>\n",
       "      <td>NaN</td>\n",
       "      <td>NEWBORN</td>\n",
       "      <td>PHYS REFERRAL/NORMAL DELI</td>\n",
       "      <td>HOME</td>\n",
       "      <td>Private</td>\n",
       "      <td>...</td>\n",
       "      <td>NaN</td>\n",
       "      <td>NaN</td>\n",
       "      <td>NaN</td>\n",
       "      <td>NaN</td>\n",
       "      <td>NaN</td>\n",
       "      <td>NaN</td>\n",
       "      <td>NaN</td>\n",
       "      <td>NaN</td>\n",
       "      <td>13.9</td>\n",
       "      <td>13.9</td>\n",
       "    </tr>\n",
       "    <tr>\n",
       "      <th>4</th>\n",
       "      <td>5</td>\n",
       "      <td>6</td>\n",
       "      <td>107064</td>\n",
       "      <td>2175-05-30 07:15:00</td>\n",
       "      <td>2175-06-15 16:00:00</td>\n",
       "      <td>NaN</td>\n",
       "      <td>ELECTIVE</td>\n",
       "      <td>PHYS REFERRAL/NORMAL DELI</td>\n",
       "      <td>HOME HEALTH CARE</td>\n",
       "      <td>Medicare</td>\n",
       "      <td>...</td>\n",
       "      <td>1.0</td>\n",
       "      <td>1.4</td>\n",
       "      <td>12.6</td>\n",
       "      <td>14.6</td>\n",
       "      <td>134.0</td>\n",
       "      <td>138.0</td>\n",
       "      <td>62.0</td>\n",
       "      <td>65.0</td>\n",
       "      <td>10.6</td>\n",
       "      <td>10.6</td>\n",
       "    </tr>\n",
       "  </tbody>\n",
       "</table>\n",
       "<p>5 rows × 87 columns</p>\n",
       "</div>"
      ],
      "text/plain": [
       "   ROW_ID  SUBJECT_ID  HADM_ID            ADMITTIME            DISCHTIME  \\\n",
       "0       1           2   163353  2138-07-17 19:04:00  2138-07-21 15:48:00   \n",
       "1       2           3   145834  2101-10-20 19:08:00  2101-10-31 13:58:00   \n",
       "2       3           4   185777  2191-03-16 00:28:00  2191-03-23 18:41:00   \n",
       "3       4           5   178980  2103-02-02 04:31:00  2103-02-04 12:15:00   \n",
       "4       5           6   107064  2175-05-30 07:15:00  2175-06-15 16:00:00   \n",
       "\n",
       "  DEATHTIME ADMISSION_TYPE         ADMISSION_LOCATION  \\\n",
       "0       NaN        NEWBORN  PHYS REFERRAL/NORMAL DELI   \n",
       "1       NaN      EMERGENCY       EMERGENCY ROOM ADMIT   \n",
       "2       NaN      EMERGENCY       EMERGENCY ROOM ADMIT   \n",
       "3       NaN        NEWBORN  PHYS REFERRAL/NORMAL DELI   \n",
       "4       NaN       ELECTIVE  PHYS REFERRAL/NORMAL DELI   \n",
       "\n",
       "          DISCHARGE_LOCATION INSURANCE  ... INR_min INR_max PT_min PT_max  \\\n",
       "0                       HOME   Private  ...     NaN     NaN    NaN    NaN   \n",
       "1                        SNF  Medicare  ...     1.3     1.7   13.5   15.7   \n",
       "2  HOME WITH HOME IV PROVIDR   Private  ...     1.1     1.1   12.8   12.8   \n",
       "3                       HOME   Private  ...     NaN     NaN    NaN    NaN   \n",
       "4           HOME HEALTH CARE  Medicare  ...     1.0     1.4   12.6   14.6   \n",
       "\n",
       "  SODIUM_min SODIUM_max BUN_min  BUN_max  WBC_min  WBC_max  \n",
       "0        NaN        NaN     NaN      NaN      0.1     22.0  \n",
       "1      136.0      153.0    41.0     53.0     11.3     24.4  \n",
       "2      141.0      141.0    10.0     10.0      9.7      9.7  \n",
       "3        NaN        NaN     NaN      NaN     13.9     13.9  \n",
       "4      134.0      138.0    62.0     65.0     10.6     10.6  \n",
       "\n",
       "[5 rows x 87 columns]"
      ]
     },
     "execution_count": 5,
     "metadata": {},
     "output_type": "execute_result"
    }
   ],
   "source": [
    "df.head()"
   ]
  },
  {
   "cell_type": "code",
   "execution_count": 6,
   "metadata": {},
   "outputs": [],
   "source": [
    "df = df.drop(columns=['ROW_ID'])"
   ]
  },
  {
   "cell_type": "code",
   "execution_count": 7,
   "metadata": {},
   "outputs": [],
   "source": [
    "# time in emergency department, if not enter, then 0\n",
    "df['EDREGTIME'] = df['EDREGTIME'].fillna(0)\n",
    "df['EDOUTTIME'] = df['EDOUTTIME'].fillna(0)\n",
    "df['EDstay'] = pd.to_datetime(df.EDOUTTIME) - pd.to_datetime(df.EDREGTIME)"
   ]
  },
  {
   "cell_type": "code",
   "execution_count": 8,
   "metadata": {},
   "outputs": [
    {
     "data": {
      "text/plain": [
       "Index(['SUBJECT_ID', 'HADM_ID', 'ADMITTIME', 'DISCHTIME', 'DEATHTIME',\n",
       "       'ADMISSION_TYPE', 'ADMISSION_LOCATION', 'DISCHARGE_LOCATION',\n",
       "       'INSURANCE', 'LANGUAGE', 'RELIGION', 'MARITAL_STATUS', 'ETHNICITY',\n",
       "       'EDREGTIME', 'EDOUTTIME', 'DIAGNOSIS', 'HOSPITAL_EXPIRE_FLAG',\n",
       "       'HAS_CHARTEVENTS_DATA', 'HeartRate_Min', 'HeartRate_Max',\n",
       "       'HeartRate_Mean', 'SysBP_Min', 'SysBP_Max', 'SysBP_Mean', 'DiasBP_Min',\n",
       "       'DiasBP_Max', 'DiasBP_Mean', 'TempC_Max', 'RespRate_Max',\n",
       "       'RespRate_Mean', 'HeartRate_Mean_1', 'HeartRate_Min_1', 'Glucose_Max',\n",
       "       'Glucose_Min', 'Glucose_Mean', 'icustay_id', 'INTIME', 'OUTTIME',\n",
       "       'ICU_LOS', 'Height', 'Weight', 'GENDER', 'DOB', 'DOD', 'Hosp_LOS',\n",
       "       'age', 'subject_id', 'hadm_id', 'ANIONGAP_min', 'ANIONGAP_max',\n",
       "       'ALBUMIN_min', 'ALBUMIN_max', 'BANDS_min', 'BANDS_max',\n",
       "       'BICARBONATE_min', 'BICARBONATE_max', 'BILIRUBIN_min', 'BILIRUBIN_max',\n",
       "       'CREATININE_min', 'CREATININE_max', 'CHLORIDE_min', 'CHLORIDE_max',\n",
       "       'GLUCOSE_min', 'GLUCOSE_max', 'HEMATOCRIT_min', 'HEMATOCRIT_max',\n",
       "       'HEMOGLOBIN_min', 'HEMOGLOBIN_max', 'LACTATE_min', 'LACTATE_max',\n",
       "       'PLATELET_min', 'PLATELET_max', 'POTASSIUM_min', 'POTASSIUM_max',\n",
       "       'PTT_min', 'PTT_max', 'INR_min', 'INR_max', 'PT_min', 'PT_max',\n",
       "       'SODIUM_min', 'SODIUM_max', 'BUN_min', 'BUN_max', 'WBC_min', 'WBC_max',\n",
       "       'EDstay'],\n",
       "      dtype='object')"
      ]
     },
     "execution_count": 8,
     "metadata": {},
     "output_type": "execute_result"
    }
   ],
   "source": [
    "df.columns"
   ]
  },
  {
   "cell_type": "code",
   "execution_count": 9,
   "metadata": {},
   "outputs": [],
   "source": [
    "df['Hosp_LOS'] = pd.to_timedelta(df.Hosp_LOS).dt.total_seconds()\n",
    "df['EDstay'] = df.EDstay.dt.total_seconds()"
   ]
  },
  {
   "cell_type": "code",
   "execution_count": 10,
   "metadata": {},
   "outputs": [],
   "source": [
    "df_new = df.drop(['SUBJECT_ID', 'HADM_ID', 'icustay_id', \n",
    "                  'ADMITTIME', 'DISCHTIME', 'DEATHTIME', 'EDREGTIME', 'EDOUTTIME', \n",
    "                  'HOSPITAL_EXPIRE_FLAG', 'HAS_CHARTEVENTS_DATA', \n",
    "                  'HeartRate_Min', 'HeartRate_Max', 'SysBP_Min', 'SysBP_Max', \n",
    "                  'DiasBP_Min', 'DiasBP_Max', 'RespRate_Max', 'HeartRate_Mean_1',\n",
    "                  'HeartRate_Min_1', 'Glucose_Max', 'Glucose_Min', 'INTIME', 'OUTTIME', \n",
    "                  'DOB', 'DOD', 'LANGUAGE', 'MARITAL_STATUS', 'Height'], axis=1)"
   ]
  },
  {
   "cell_type": "code",
   "execution_count": 11,
   "metadata": {},
   "outputs": [
    {
     "data": {
      "text/plain": [
       "Index(['ADMISSION_TYPE', 'ADMISSION_LOCATION', 'DISCHARGE_LOCATION',\n",
       "       'INSURANCE', 'RELIGION', 'ETHNICITY', 'DIAGNOSIS', 'HeartRate_Mean',\n",
       "       'SysBP_Mean', 'DiasBP_Mean', 'TempC_Max', 'RespRate_Mean',\n",
       "       'Glucose_Mean', 'ICU_LOS', 'Weight', 'GENDER', 'Hosp_LOS', 'age',\n",
       "       'subject_id', 'hadm_id', 'ANIONGAP_min', 'ANIONGAP_max', 'ALBUMIN_min',\n",
       "       'ALBUMIN_max', 'BANDS_min', 'BANDS_max', 'BICARBONATE_min',\n",
       "       'BICARBONATE_max', 'BILIRUBIN_min', 'BILIRUBIN_max', 'CREATININE_min',\n",
       "       'CREATININE_max', 'CHLORIDE_min', 'CHLORIDE_max', 'GLUCOSE_min',\n",
       "       'GLUCOSE_max', 'HEMATOCRIT_min', 'HEMATOCRIT_max', 'HEMOGLOBIN_min',\n",
       "       'HEMOGLOBIN_max', 'LACTATE_min', 'LACTATE_max', 'PLATELET_min',\n",
       "       'PLATELET_max', 'POTASSIUM_min', 'POTASSIUM_max', 'PTT_min', 'PTT_max',\n",
       "       'INR_min', 'INR_max', 'PT_min', 'PT_max', 'SODIUM_min', 'SODIUM_max',\n",
       "       'BUN_min', 'BUN_max', 'WBC_min', 'WBC_max', 'EDstay'],\n",
       "      dtype='object')"
      ]
     },
     "execution_count": 11,
     "metadata": {},
     "output_type": "execute_result"
    }
   ],
   "source": [
    "df_new.columns"
   ]
  },
  {
   "cell_type": "code",
   "execution_count": 12,
   "metadata": {},
   "outputs": [],
   "source": [
    "df_new.to_csv(\"dat_raw.csv\")"
   ]
  },
  {
   "cell_type": "code",
   "execution_count": 13,
   "metadata": {},
   "outputs": [],
   "source": [
    "df_new2 = df_new.drop(columns=['Weight','subject_id','hadm_id'])"
   ]
  },
  {
   "cell_type": "code",
   "execution_count": 14,
   "metadata": {},
   "outputs": [
    {
     "data": {
      "text/plain": [
       "HOME                         16090\n",
       "HOME HEALTH CARE             10924\n",
       "SNF                           5545\n",
       "REHAB/DISTINCT PART HOSP      5042\n",
       "DEAD/EXPIRED                  4393\n",
       "SHORT TERM HOSPITAL           1441\n",
       "LONG TERM CARE HOSPITAL       1385\n",
       "DISC-TRAN CANCER/CHLDRN H      589\n",
       "DISCH-TRAN TO PSYCH HOSP       382\n",
       "HOSPICE-HOME                   266\n",
       "LEFT AGAINST MEDICAL ADVI      214\n",
       "HOSPICE-MEDICAL FACILITY       115\n",
       "OTHER FACILITY                  49\n",
       "HOME WITH HOME IV PROVIDR       42\n",
       "ICF                             31\n",
       "DISC-TRAN TO FEDERAL HC         11\n",
       "SNF-MEDICAID ONLY CERTIF         1\n",
       "Name: DISCHARGE_LOCATION, dtype: int64"
      ]
     },
     "execution_count": 14,
     "metadata": {},
     "output_type": "execute_result"
    }
   ],
   "source": [
    "df_new2.DISCHARGE_LOCATION.value_counts()"
   ]
  },
  {
   "cell_type": "code",
   "execution_count": 15,
   "metadata": {},
   "outputs": [],
   "source": [
    "# target variable encoding\n",
    "result = [] \n",
    "for value in df_new2['DISCHARGE_LOCATION']: \n",
    "    if value == 'DEAD/EXPIRED': \n",
    "        result.append(4) \n",
    "    elif 'HOME' in value: \n",
    "        result.append(1)\n",
    "    elif value.startswith('SNF'): \n",
    "        result.append(2)\n",
    "    else: \n",
    "        result.append(3) \n",
    "        \n",
    "df_new2['target'] = result"
   ]
  },
  {
   "cell_type": "code",
   "execution_count": 16,
   "metadata": {},
   "outputs": [
    {
     "data": {
      "text/plain": [
       "1    27322\n",
       "3     9259\n",
       "2     5546\n",
       "4     4393\n",
       "Name: target, dtype: int64"
      ]
     },
     "execution_count": 16,
     "metadata": {},
     "output_type": "execute_result"
    }
   ],
   "source": [
    "df_new2.target.value_counts()"
   ]
  },
  {
   "cell_type": "code",
   "execution_count": 17,
   "metadata": {},
   "outputs": [],
   "source": [
    "df_new2 = pd.get_dummies(df_new2, columns=['ADMISSION_TYPE'])"
   ]
  },
  {
   "cell_type": "code",
   "execution_count": 18,
   "metadata": {},
   "outputs": [],
   "source": [
    "df_new2 = pd.get_dummies(df_new2, columns=['ADMISSION_LOCATION']).drop(columns=['ADMISSION_LOCATION_** INFO NOT AVAILABLE **'])"
   ]
  },
  {
   "cell_type": "code",
   "execution_count": 19,
   "metadata": {},
   "outputs": [],
   "source": [
    "df_new2 = pd.get_dummies(df_new2, columns=['INSURANCE'])"
   ]
  },
  {
   "cell_type": "code",
   "execution_count": 20,
   "metadata": {},
   "outputs": [],
   "source": [
    "df_new2 = pd.concat([df_new2, pd.get_dummies(df_new2['RELIGION'])], axis=1).drop(\n",
    "    ['RELIGION', 'NOT SPECIFIED', 'CATHOLIC', 'PROTESTANT QUAKER',\n",
    "       'UNOBTAINABLE', 'OTHER', \"JEHOVAH'S WITNESS\",\n",
    "       'GREEK ORTHODOX', 'EPISCOPALIAN', 'CHRISTIAN SCIENTIST',\n",
    "       'METHODIST', 'UNITARIAN-UNIVERSALIST', 'HEBREW',\n",
    "        'BAPTIST', 'ROMANIAN EAST. ORTH',\n",
    "       'LUTHERAN'], axis=1)"
   ]
  },
  {
   "cell_type": "code",
   "execution_count": 21,
   "metadata": {},
   "outputs": [],
   "source": [
    "result = [] \n",
    "for value in df_new2['ETHNICITY']: \n",
    "    if 'ASIAN' in value: \n",
    "        result.append('ASIAN') \n",
    "    elif 'WHITE' in value: \n",
    "        result.append('WHITE')\n",
    "    elif 'BLACK' in value: \n",
    "        result.append('BLACK')\n",
    "    else: \n",
    "        result.append('ETHNICITY_Others') \n",
    "        \n",
    "df_new2['ETHNICITY'] = result\n",
    "df_new2 = pd.concat([df_new2, pd.get_dummies(df_new2['ETHNICITY'])], axis=1).drop(\n",
    "    'ETHNICITY', axis=1)"
   ]
  },
  {
   "cell_type": "code",
   "execution_count": 22,
   "metadata": {},
   "outputs": [],
   "source": [
    "result = [] \n",
    "for value in df_new2['DIAGNOSIS']: \n",
    "    if value == 'PNEUMONIA': \n",
    "        result.append('PNEUMONIA')\n",
    "    elif value == 'CORONARY ARTERY DISEASE': \n",
    "        result.append('CORONARY ARTERY DISEASE')\n",
    "    elif value == 'SEPSIS': \n",
    "        result.append('SEPSIS')\n",
    "    elif value == 'INTRACRANIAL HEMORRHAGE': \n",
    "        result.append('INTRACRANIAL HEMORRHAGE')\n",
    "    elif value == 'CHEST PAIN': \n",
    "        result.append('CHEST PAIN')\n",
    "    elif value == 'CORONARY ARTERY DISEASE\\CORONARY ARTERY BYPASS GRAFT /SDA': \n",
    "        result.append('CORONARY ARTERY DISEASE\\CORONARY ARTERY BYPASS GRAFT /SDA')\n",
    "    elif value == 'GASTROINTESTINAL BLEED': \n",
    "        result.append('GASTROINTESTINAL BLEED')\n",
    "    elif value == 'CONGESTIVE HEART FAILURE': \n",
    "        result.append('CONGESTIVE HEART FAILURE')\n",
    "    elif value == 'ALTERED MENTAL STATUS': \n",
    "        result.append('ALTERED MENTAL STATUS')\n",
    "    else: \n",
    "        result.append('others') \n",
    "        \n",
    "df_new2['DIAGNOSIS'] = result\n",
    "df_new2 = pd.concat([df_new2, pd.get_dummies(df_new2['DIAGNOSIS'])], axis=1).drop(\n",
    "    ['DIAGNOSIS', 'others'], axis=1)"
   ]
  },
  {
   "cell_type": "code",
   "execution_count": 23,
   "metadata": {},
   "outputs": [],
   "source": [
    "df_new2 = pd.get_dummies(df_new2, columns=['GENDER'])"
   ]
  },
  {
   "cell_type": "code",
   "execution_count": 24,
   "metadata": {},
   "outputs": [],
   "source": [
    "df_new2['ICU_LOS'] = df_new2['ICU_LOS'].fillna(0)"
   ]
  },
  {
   "cell_type": "code",
   "execution_count": 25,
   "metadata": {},
   "outputs": [],
   "source": [
    "df_new2.drop(columns='Hosp_LOS', inplace=True)"
   ]
  },
  {
   "cell_type": "code",
   "execution_count": 26,
   "metadata": {},
   "outputs": [],
   "source": [
    "from sklearn.model_selection import train_test_split"
   ]
  },
  {
   "cell_type": "code",
   "execution_count": 27,
   "metadata": {},
   "outputs": [],
   "source": [
    "df_new2.drop(columns=['DISCHARGE_LOCATION'], inplace=True)"
   ]
  },
  {
   "cell_type": "code",
   "execution_count": 28,
   "metadata": {},
   "outputs": [],
   "source": [
    "y = df_new2.pop('target')\n",
    "X_train, X_test, y_train, y_test = train_test_split(df_new2, y, test_size=0.2, random_state=123, stratify=y)"
   ]
  },
  {
   "cell_type": "code",
   "execution_count": 29,
   "metadata": {},
   "outputs": [],
   "source": [
    "from sklearn.impute import SimpleImputer\n",
    "from sklearn.experimental import enable_iterative_imputer\n",
    "from sklearn.impute import IterativeImputer\n",
    "from sklearn.impute import KNNImputer"
   ]
  },
  {
   "cell_type": "code",
   "execution_count": 30,
   "metadata": {},
   "outputs": [],
   "source": [
    "imp = SimpleImputer(strategy='mean')\n",
    "imp.fit(X_train)\n",
    "X_train1 = imp.transform(X_train)\n",
    "X_test1 = imp.transform(X_test)"
   ]
  },
  {
   "cell_type": "code",
   "execution_count": 37,
   "metadata": {},
   "outputs": [],
   "source": [
    "pd.DataFrame(X_train1,columns=X_train.columns).to_csv(\"X_train.csv\")"
   ]
  },
  {
   "cell_type": "code",
   "execution_count": 38,
   "metadata": {},
   "outputs": [],
   "source": [
    "pd.DataFrame(X_test1,columns=X_test.columns).to_csv(\"X_test.csv\")"
   ]
  },
  {
   "cell_type": "code",
   "execution_count": 34,
   "metadata": {},
   "outputs": [],
   "source": [
    "y_train.to_csv(\"y_train.csv\")\n",
    "y_test.to_csv(\"y_test.csv\")"
   ]
  },
  {
   "cell_type": "code",
   "execution_count": 30,
   "metadata": {},
   "outputs": [],
   "source": [
    "from sklearn.multiclass import OneVsRestClassifier\n",
    "from sklearn.linear_model import LogisticRegression\n",
    "from sklearn.metrics import accuracy_score, f1_score, confusion_matrix\n",
    "from sklearn.dummy import DummyClassifier"
   ]
  },
  {
   "cell_type": "code",
   "execution_count": 31,
   "metadata": {},
   "outputs": [],
   "source": [
    "dummy_clf = DummyClassifier(strategy=\"most_frequent\")\n",
    "\n",
    "dummy_clf.fit(X_train1, y_train)\n",
    "train_pred_dummy = dummy_clf.predict(X_train1)\n",
    "test_pred_dummy = dummy_clf.predict(X_test1)"
   ]
  },
  {
   "cell_type": "code",
   "execution_count": 32,
   "metadata": {},
   "outputs": [],
   "source": [
    "clf = OneVsRestClassifier(LogisticRegression(\n",
    "    penalty='l1', solver='liblinear', multi_class='ovr', random_state=0))\n",
    "\n",
    "clf.fit(X_train1, y_train)\n",
    "train_pred = clf.predict(X_train1)\n",
    "test_pred = clf.predict(X_test1)"
   ]
  },
  {
   "cell_type": "code",
   "execution_count": 33,
   "metadata": {},
   "outputs": [
    {
     "name": "stdout",
     "output_type": "stream",
     "text": [
      "Imputation 1:\n",
      "Training\n",
      "Accuracy: Dummy 0.5873280309544282, LogReg 0.6432179707652622\n",
      "F1: Dummy 0.4346350712869246, LogReg 0.5905429878961517\n",
      "Testing\n",
      "Accuracy: Dummy 0.587274290627687, LogReg 0.6482158211521926\n",
      "F1: Dummy 0.4345702497277467, LogReg 0.5947873841570391\n"
     ]
    }
   ],
   "source": [
    "print('Imputation 1:')\n",
    "print('Training')\n",
    "print('Accuracy: Dummy {}, LogReg {}'.format(\n",
    "    accuracy_score(y_train, train_pred_dummy), accuracy_score(y_train, train_pred)))\n",
    "print('F1: Dummy {}, LogReg {}'.format(\n",
    "    f1_score(y_train, train_pred_dummy, average='weighted'), \n",
    "    f1_score(y_train, train_pred, average='weighted')))\n",
    "print('Testing')\n",
    "print('Accuracy: Dummy {}, LogReg {}'.format(\n",
    "    accuracy_score(y_test, test_pred_dummy), accuracy_score(y_test, test_pred)))\n",
    "print('F1: Dummy {}, LogReg {}'.format(\n",
    "    f1_score(y_test, test_pred_dummy, average='weighted'), \n",
    "    f1_score(y_test, test_pred, average='weighted')))"
   ]
  },
  {
   "cell_type": "code",
   "execution_count": 34,
   "metadata": {},
   "outputs": [
    {
     "data": {
      "text/plain": [
       "array([0.9298655 , 0.26098715, 0.14810315, 0.38645418])"
      ]
     },
     "execution_count": 34,
     "metadata": {},
     "output_type": "execute_result"
    }
   ],
   "source": [
    "conf_train = confusion_matrix(y_train, train_pred)\n",
    "conf_train.diagonal()/conf_train.sum(axis=1)"
   ]
  },
  {
   "cell_type": "code",
   "execution_count": 35,
   "metadata": {},
   "outputs": [
    {
     "data": {
      "text/plain": [
       "array([0.93905564, 0.26420198, 0.15550756, 0.3629124 ])"
      ]
     },
     "execution_count": 35,
     "metadata": {},
     "output_type": "execute_result"
    }
   ],
   "source": [
    "conf_test = confusion_matrix(y_test, test_pred)\n",
    "conf_test.diagonal()/conf_test.sum(axis=1)"
   ]
  }
 ],
 "metadata": {
  "kernelspec": {
   "display_name": "Python 3",
   "language": "python",
   "name": "python3"
  },
  "language_info": {
   "codemirror_mode": {
    "name": "ipython",
    "version": 3
   },
   "file_extension": ".py",
   "mimetype": "text/x-python",
   "name": "python",
   "nbconvert_exporter": "python",
   "pygments_lexer": "ipython3",
   "version": "3.6.5"
  }
 },
 "nbformat": 4,
 "nbformat_minor": 4
}
