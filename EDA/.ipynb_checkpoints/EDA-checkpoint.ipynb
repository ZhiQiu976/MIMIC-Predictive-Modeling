{
 "cells": [
  {
   "cell_type": "markdown",
   "metadata": {},
   "source": [
    "## Exploratory Data Anlysis\n",
    "\n",
    "### Identifiers\n",
    "- SUBJECT_ID: identifiers to a unique patient\n",
    "- HADM_ID: identifiers to an admission to hospital\n",
    "- ICUSTAY_ID: identifiers to a unique admission to intensive care unit\n",
    "\n",
    "### Charted events\n",
    "- OUTPUT events table contains all measurements related to output for a given patient."
   ]
  },
  {
   "cell_type": "code",
   "execution_count": 1,
   "metadata": {},
   "outputs": [],
   "source": [
    "import numpy as np\n",
    "import pandas as pd"
   ]
  },
  {
   "cell_type": "code",
   "execution_count": 2,
   "metadata": {},
   "outputs": [],
   "source": [
    "import seaborn as sns\n",
    "import matplotlib.pyplot as plt"
   ]
  },
  {
   "cell_type": "code",
   "execution_count": 3,
   "metadata": {},
   "outputs": [],
   "source": [
    "admissions = pd.read_csv(\"./files/mimiciii/1.4/ADMISSIONS.csv\")"
   ]
  },
  {
   "cell_type": "code",
   "execution_count": 4,
   "metadata": {},
   "outputs": [
    {
     "data": {
      "text/html": [
       "<div>\n",
       "<style scoped>\n",
       "    .dataframe tbody tr th:only-of-type {\n",
       "        vertical-align: middle;\n",
       "    }\n",
       "\n",
       "    .dataframe tbody tr th {\n",
       "        vertical-align: top;\n",
       "    }\n",
       "\n",
       "    .dataframe thead th {\n",
       "        text-align: right;\n",
       "    }\n",
       "</style>\n",
       "<table border=\"1\" class=\"dataframe\">\n",
       "  <thead>\n",
       "    <tr style=\"text-align: right;\">\n",
       "      <th></th>\n",
       "      <th>ROW_ID</th>\n",
       "      <th>SUBJECT_ID</th>\n",
       "      <th>HADM_ID</th>\n",
       "      <th>ADMITTIME</th>\n",
       "      <th>DISCHTIME</th>\n",
       "      <th>DEATHTIME</th>\n",
       "      <th>ADMISSION_TYPE</th>\n",
       "      <th>ADMISSION_LOCATION</th>\n",
       "      <th>DISCHARGE_LOCATION</th>\n",
       "      <th>INSURANCE</th>\n",
       "      <th>LANGUAGE</th>\n",
       "      <th>RELIGION</th>\n",
       "      <th>MARITAL_STATUS</th>\n",
       "      <th>ETHNICITY</th>\n",
       "      <th>EDREGTIME</th>\n",
       "      <th>EDOUTTIME</th>\n",
       "      <th>DIAGNOSIS</th>\n",
       "      <th>HOSPITAL_EXPIRE_FLAG</th>\n",
       "      <th>HAS_CHARTEVENTS_DATA</th>\n",
       "    </tr>\n",
       "  </thead>\n",
       "  <tbody>\n",
       "    <tr>\n",
       "      <th>0</th>\n",
       "      <td>21</td>\n",
       "      <td>22</td>\n",
       "      <td>165315</td>\n",
       "      <td>2196-04-09 12:26:00</td>\n",
       "      <td>2196-04-10 15:54:00</td>\n",
       "      <td>NaN</td>\n",
       "      <td>EMERGENCY</td>\n",
       "      <td>EMERGENCY ROOM ADMIT</td>\n",
       "      <td>DISC-TRAN CANCER/CHLDRN H</td>\n",
       "      <td>Private</td>\n",
       "      <td>NaN</td>\n",
       "      <td>UNOBTAINABLE</td>\n",
       "      <td>MARRIED</td>\n",
       "      <td>WHITE</td>\n",
       "      <td>2196-04-09 10:06:00</td>\n",
       "      <td>2196-04-09 13:24:00</td>\n",
       "      <td>BENZODIAZEPINE OVERDOSE</td>\n",
       "      <td>0</td>\n",
       "      <td>1</td>\n",
       "    </tr>\n",
       "    <tr>\n",
       "      <th>1</th>\n",
       "      <td>22</td>\n",
       "      <td>23</td>\n",
       "      <td>152223</td>\n",
       "      <td>2153-09-03 07:15:00</td>\n",
       "      <td>2153-09-08 19:10:00</td>\n",
       "      <td>NaN</td>\n",
       "      <td>ELECTIVE</td>\n",
       "      <td>PHYS REFERRAL/NORMAL DELI</td>\n",
       "      <td>HOME HEALTH CARE</td>\n",
       "      <td>Medicare</td>\n",
       "      <td>NaN</td>\n",
       "      <td>CATHOLIC</td>\n",
       "      <td>MARRIED</td>\n",
       "      <td>WHITE</td>\n",
       "      <td>NaN</td>\n",
       "      <td>NaN</td>\n",
       "      <td>CORONARY ARTERY DISEASE\\CORONARY ARTERY BYPASS...</td>\n",
       "      <td>0</td>\n",
       "      <td>1</td>\n",
       "    </tr>\n",
       "    <tr>\n",
       "      <th>2</th>\n",
       "      <td>23</td>\n",
       "      <td>23</td>\n",
       "      <td>124321</td>\n",
       "      <td>2157-10-18 19:34:00</td>\n",
       "      <td>2157-10-25 14:00:00</td>\n",
       "      <td>NaN</td>\n",
       "      <td>EMERGENCY</td>\n",
       "      <td>TRANSFER FROM HOSP/EXTRAM</td>\n",
       "      <td>HOME HEALTH CARE</td>\n",
       "      <td>Medicare</td>\n",
       "      <td>ENGL</td>\n",
       "      <td>CATHOLIC</td>\n",
       "      <td>MARRIED</td>\n",
       "      <td>WHITE</td>\n",
       "      <td>NaN</td>\n",
       "      <td>NaN</td>\n",
       "      <td>BRAIN MASS</td>\n",
       "      <td>0</td>\n",
       "      <td>1</td>\n",
       "    </tr>\n",
       "    <tr>\n",
       "      <th>3</th>\n",
       "      <td>24</td>\n",
       "      <td>24</td>\n",
       "      <td>161859</td>\n",
       "      <td>2139-06-06 16:14:00</td>\n",
       "      <td>2139-06-09 12:48:00</td>\n",
       "      <td>NaN</td>\n",
       "      <td>EMERGENCY</td>\n",
       "      <td>TRANSFER FROM HOSP/EXTRAM</td>\n",
       "      <td>HOME</td>\n",
       "      <td>Private</td>\n",
       "      <td>NaN</td>\n",
       "      <td>PROTESTANT QUAKER</td>\n",
       "      <td>SINGLE</td>\n",
       "      <td>WHITE</td>\n",
       "      <td>NaN</td>\n",
       "      <td>NaN</td>\n",
       "      <td>INTERIOR MYOCARDIAL INFARCTION</td>\n",
       "      <td>0</td>\n",
       "      <td>1</td>\n",
       "    </tr>\n",
       "    <tr>\n",
       "      <th>4</th>\n",
       "      <td>25</td>\n",
       "      <td>25</td>\n",
       "      <td>129635</td>\n",
       "      <td>2160-11-02 02:06:00</td>\n",
       "      <td>2160-11-05 14:55:00</td>\n",
       "      <td>NaN</td>\n",
       "      <td>EMERGENCY</td>\n",
       "      <td>EMERGENCY ROOM ADMIT</td>\n",
       "      <td>HOME</td>\n",
       "      <td>Private</td>\n",
       "      <td>NaN</td>\n",
       "      <td>UNOBTAINABLE</td>\n",
       "      <td>MARRIED</td>\n",
       "      <td>WHITE</td>\n",
       "      <td>2160-11-02 01:01:00</td>\n",
       "      <td>2160-11-02 04:27:00</td>\n",
       "      <td>ACUTE CORONARY SYNDROME</td>\n",
       "      <td>0</td>\n",
       "      <td>1</td>\n",
       "    </tr>\n",
       "  </tbody>\n",
       "</table>\n",
       "</div>"
      ],
      "text/plain": [
       "   ROW_ID  SUBJECT_ID  HADM_ID            ADMITTIME            DISCHTIME  \\\n",
       "0      21          22   165315  2196-04-09 12:26:00  2196-04-10 15:54:00   \n",
       "1      22          23   152223  2153-09-03 07:15:00  2153-09-08 19:10:00   \n",
       "2      23          23   124321  2157-10-18 19:34:00  2157-10-25 14:00:00   \n",
       "3      24          24   161859  2139-06-06 16:14:00  2139-06-09 12:48:00   \n",
       "4      25          25   129635  2160-11-02 02:06:00  2160-11-05 14:55:00   \n",
       "\n",
       "  DEATHTIME ADMISSION_TYPE         ADMISSION_LOCATION  \\\n",
       "0       NaN      EMERGENCY       EMERGENCY ROOM ADMIT   \n",
       "1       NaN       ELECTIVE  PHYS REFERRAL/NORMAL DELI   \n",
       "2       NaN      EMERGENCY  TRANSFER FROM HOSP/EXTRAM   \n",
       "3       NaN      EMERGENCY  TRANSFER FROM HOSP/EXTRAM   \n",
       "4       NaN      EMERGENCY       EMERGENCY ROOM ADMIT   \n",
       "\n",
       "          DISCHARGE_LOCATION INSURANCE LANGUAGE           RELIGION  \\\n",
       "0  DISC-TRAN CANCER/CHLDRN H   Private      NaN       UNOBTAINABLE   \n",
       "1           HOME HEALTH CARE  Medicare      NaN           CATHOLIC   \n",
       "2           HOME HEALTH CARE  Medicare     ENGL           CATHOLIC   \n",
       "3                       HOME   Private      NaN  PROTESTANT QUAKER   \n",
       "4                       HOME   Private      NaN       UNOBTAINABLE   \n",
       "\n",
       "  MARITAL_STATUS ETHNICITY            EDREGTIME            EDOUTTIME  \\\n",
       "0        MARRIED     WHITE  2196-04-09 10:06:00  2196-04-09 13:24:00   \n",
       "1        MARRIED     WHITE                  NaN                  NaN   \n",
       "2        MARRIED     WHITE                  NaN                  NaN   \n",
       "3         SINGLE     WHITE                  NaN                  NaN   \n",
       "4        MARRIED     WHITE  2160-11-02 01:01:00  2160-11-02 04:27:00   \n",
       "\n",
       "                                           DIAGNOSIS  HOSPITAL_EXPIRE_FLAG  \\\n",
       "0                            BENZODIAZEPINE OVERDOSE                     0   \n",
       "1  CORONARY ARTERY DISEASE\\CORONARY ARTERY BYPASS...                     0   \n",
       "2                                         BRAIN MASS                     0   \n",
       "3                     INTERIOR MYOCARDIAL INFARCTION                     0   \n",
       "4                            ACUTE CORONARY SYNDROME                     0   \n",
       "\n",
       "   HAS_CHARTEVENTS_DATA  \n",
       "0                     1  \n",
       "1                     1  \n",
       "2                     1  \n",
       "3                     1  \n",
       "4                     1  "
      ]
     },
     "execution_count": 4,
     "metadata": {},
     "output_type": "execute_result"
    }
   ],
   "source": [
    "admissions.head()"
   ]
  },
  {
   "cell_type": "code",
   "execution_count": 5,
   "metadata": {},
   "outputs": [
    {
     "data": {
      "text/plain": [
       "ROW_ID                   int64\n",
       "SUBJECT_ID               int64\n",
       "HADM_ID                  int64\n",
       "ADMITTIME               object\n",
       "DISCHTIME               object\n",
       "DEATHTIME               object\n",
       "ADMISSION_TYPE          object\n",
       "ADMISSION_LOCATION      object\n",
       "DISCHARGE_LOCATION      object\n",
       "INSURANCE               object\n",
       "LANGUAGE                object\n",
       "RELIGION                object\n",
       "MARITAL_STATUS          object\n",
       "ETHNICITY               object\n",
       "EDREGTIME               object\n",
       "EDOUTTIME               object\n",
       "DIAGNOSIS               object\n",
       "HOSPITAL_EXPIRE_FLAG     int64\n",
       "HAS_CHARTEVENTS_DATA     int64\n",
       "dtype: object"
      ]
     },
     "execution_count": 5,
     "metadata": {},
     "output_type": "execute_result"
    }
   ],
   "source": [
    "admissions.dtypes"
   ]
  },
  {
   "cell_type": "code",
   "execution_count": 6,
   "metadata": {},
   "outputs": [
    {
     "data": {
      "text/plain": [
       "(58976, 19)"
      ]
     },
     "execution_count": 6,
     "metadata": {},
     "output_type": "execute_result"
    }
   ],
   "source": [
    "admissions.shape"
   ]
  },
  {
   "cell_type": "code",
   "execution_count": 7,
   "metadata": {},
   "outputs": [
    {
     "data": {
      "text/plain": [
       "0    2196-04-09 12:26:00\n",
       "1    2153-09-03 07:15:00\n",
       "2    2157-10-18 19:34:00\n",
       "3    2139-06-06 16:14:00\n",
       "4    2160-11-02 02:06:00\n",
       "Name: ADMITTIME, dtype: object"
      ]
     },
     "execution_count": 7,
     "metadata": {},
     "output_type": "execute_result"
    }
   ],
   "source": [
    "admissions.ADMITTIME.head()"
   ]
  },
  {
   "cell_type": "code",
   "execution_count": 8,
   "metadata": {},
   "outputs": [],
   "source": [
    "admissions[\"ADMITTIME\"] = pd.to_datetime(admissions.ADMITTIME)"
   ]
  },
  {
   "cell_type": "code",
   "execution_count": 9,
   "metadata": {},
   "outputs": [],
   "source": [
    "admissions[\"DISCHTIME\"] = pd.to_datetime(admissions.DISCHTIME)"
   ]
  },
  {
   "cell_type": "markdown",
   "metadata": {},
   "source": [
    "### Create the primary outcome variable\n",
    "- The length of stay is the time from the admission to the discharge from hospital.\n",
    "- The data contains protected health information so the actual admission time and discharge time are shifted.\n",
    "- The distribution of the outcome variable is highly skewed.\n",
    "    - Dichotomize the outcome variable (imbalanced classification problem).\n",
    "    - Keep the continuous variable and find optimal methods to model skewed distribution."
   ]
  },
  {
   "cell_type": "code",
   "execution_count": 10,
   "metadata": {},
   "outputs": [],
   "source": [
    "admissions[\"LOS\"] = admissions.DISCHTIME-admissions.ADMITTIME"
   ]
  },
  {
   "cell_type": "code",
   "execution_count": 11,
   "metadata": {},
   "outputs": [
    {
     "data": {
      "text/plain": [
       "0   1 days 03:28:00\n",
       "1   5 days 11:55:00\n",
       "2   6 days 18:26:00\n",
       "3   2 days 20:34:00\n",
       "4   3 days 12:49:00\n",
       "Name: LOS, dtype: timedelta64[ns]"
      ]
     },
     "execution_count": 11,
     "metadata": {},
     "output_type": "execute_result"
    }
   ],
   "source": [
    "admissions.LOS.head()"
   ]
  },
  {
   "cell_type": "code",
   "execution_count": 12,
   "metadata": {},
   "outputs": [],
   "source": [
    "los_count = admissions.groupby(admissions['LOS'].dt.days).LOS.count()"
   ]
  },
  {
   "cell_type": "code",
   "execution_count": 13,
   "metadata": {},
   "outputs": [
    {
     "data": {
      "text/plain": [
       "<BarContainer object of 162 artists>"
      ]
     },
     "execution_count": 13,
     "metadata": {},
     "output_type": "execute_result"
    },
    {
     "data": {
      "image/png": "[encoded data removed]",
      "text/plain": [
       "<Figure size 432x288 with 1 Axes>"
      ]
     },
     "metadata": {},
     "output_type": "display_data"
    }
   ],
   "source": [
    "plt.bar(los_count.index, los_count)"
   ]
  },
  {
   "cell_type": "code",
   "execution_count": 21,
   "metadata": {},
   "outputs": [],
   "source": [
    "admissions['LOS_DAYS'] = admissions['LOS'].dt.days"
   ]
  },
  {
   "cell_type": "code",
   "execution_count": 23,
   "metadata": {},
   "outputs": [],
   "source": [
    "grouped = admissions.groupby('ADMISSION_TYPE')"
   ]
  },
  {
   "cell_type": "code",
   "execution_count": 34,
   "metadata": {},
   "outputs": [
    {
     "data": {
      "image/png": "[encoded data removed]",
      "text/plain": [
       "<Figure size 432x288 with 1 Axes>"
      ]
     },
     "metadata": {},
     "output_type": "display_data"
    }
   ],
   "source": [
    "for group in grouped:\n",
    "    plt.hist(group[1].LOS_DAYS, bins=15, alpha=0.4, label=group[1].ADMISSION_TYPE.iloc[0])\n",
    "    plt.legend(loc='best')"
   ]
  },
  {
   "cell_type": "code",
   "execution_count": 14,
   "metadata": {},
   "outputs": [
    {
     "data": {
      "text/plain": [
       "EMERGENCY    42071\n",
       "NEWBORN       7863\n",
       "ELECTIVE      7706\n",
       "URGENT        1336\n",
       "Name: ADMISSION_TYPE, dtype: int64"
      ]
     },
     "execution_count": 14,
     "metadata": {},
     "output_type": "execute_result"
    }
   ],
   "source": [
    "admissions.ADMISSION_TYPE.astype(\"category\").value_counts()"
   ]
  },
  {
   "cell_type": "markdown",
   "metadata": {},
   "source": [
    "### Discharge Location\n",
    "- Most of the patients are discharged to home/home health care/hospice-home/home with home IV provider.\n",
    "- Some of the patients are discharged to SNF (Skilled Nursing Facility). It can also be a secondary outcome variable.\n",
    "- Some of the patients are discharged to hospice-medical facility.  \n",
    "\n",
    "**Note:**  \n",
    "- Home Health Care: Home health care is a wide range of health care services that can be given in your home for an illness or injury. Home health care is usually less expensive, more convenient, and just as effective as care you get in a hospital or skilled nursing facility (SNF). References: https://www.medicare.gov/what-medicare-covers/whats-home-health-care\n",
    "- Long term care hospital: Most patients who need to be in intensive care for an extended time are often transferred to a long-term care hospital to continue that care."
   ]
  },
  {
   "cell_type": "code",
   "execution_count": 16,
   "metadata": {},
   "outputs": [
    {
     "data": {
      "text/plain": [
       "HOME                         18962\n",
       "HOME HEALTH CARE             13963\n",
       "SNF                           7705\n",
       "REHAB/DISTINCT PART HOSP      6429\n",
       "DEAD/EXPIRED                  5854\n",
       "LONG TERM CARE HOSPITAL       2305\n",
       "SHORT TERM HOSPITAL           1534\n",
       "DISC-TRAN CANCER/CHLDRN H      669\n",
       "DISCH-TRAN TO PSYCH HOSP       446\n",
       "HOSPICE-HOME                   402\n",
       "LEFT AGAINST MEDICAL ADVI      365\n",
       "HOSPICE-MEDICAL FACILITY       153\n",
       "HOME WITH HOME IV PROVIDR       67\n",
       "OTHER FACILITY                  63\n",
       "ICF                             47\n",
       "DISC-TRAN TO FEDERAL HC         11\n",
       "SNF-MEDICAID ONLY CERTIF         1\n",
       "Name: DISCHARGE_LOCATION, dtype: int64"
      ]
     },
     "execution_count": 16,
     "metadata": {},
     "output_type": "execute_result"
    }
   ],
   "source": [
    "admissions.DISCHARGE_LOCATION.astype(\"category\").value_counts()"
   ]
  },
  {
   "cell_type": "markdown",
   "metadata": {},
   "source": [
    "### Potential predictors\n",
    "#### Demographical Data\n",
    "- Insurance type, Language, ethnicity, marital_status, age, sex\n",
    "\n",
    "#### Diagnosis\n",
    "- Diagnosis variable contains too many levels. \n",
    "    - Delete some levels with too less patients.\n",
    "    - Combine some levels, such as diagnosis starting with nausea and subtypes of coronary artery disease.\n",
    "- After combining the patients table with the admission table, there is no missing data.\n",
    "\n",
    "#### Vitals"
   ]
  },
  {
   "cell_type": "code",
   "execution_count": 19,
   "metadata": {},
   "outputs": [
    {
     "data": {
      "text/plain": [
       "NEWBORN                                                      7823\n",
       "PNEUMONIA                                                    1566\n",
       "SEPSIS                                                       1184\n",
       "CONGESTIVE HEART FAILURE                                      928\n",
       "CORONARY ARTERY DISEASE                                       840\n",
       "CHEST PAIN                                                    778\n",
       "INTRACRANIAL HEMORRHAGE                                       713\n",
       "ALTERED MENTAL STATUS                                         712\n",
       "GASTROINTESTINAL BLEED                                        686\n",
       "CORONARY ARTERY DISEASE\\CORONARY ARTERY BYPASS GRAFT /SDA     583\n",
       "UPPER GI BLEED                                                580\n",
       "ABDOMINAL PAIN                                                554\n",
       "FEVER                                                         510\n",
       "DIABETIC KETOACIDOSIS                                         462\n",
       "CORONARY ARTERY DISEASE\\CORONARY ARTERY BYPASS GRAFT/SDA      450\n",
       "S/P FALL                                                      444\n",
       "LOWER GI BLEED                                                442\n",
       "SUBARACHNOID HEMORRHAGE                                       440\n",
       "HYPOTENSION                                                   416\n",
       "STROKE;TELEMETRY;TRANSIENT ISCHEMIC ATTACK                    341\n",
       "SEIZURE                                                       297\n",
       "ACUTE RENAL FAILURE                                           270\n",
       "SUBDURAL HEMATOMA                                             260\n",
       "PANCREATITIS                                                  250\n",
       "RESPIRATORY FAILURE                                           247\n",
       "S/P MOTOR VEHICLE ACCIDENT                                    241\n",
       "DYSPNEA                                                       232\n",
       "SHORTNESS OF BREATH                                           229\n",
       "CORONARY ARTERY DISEASE\\CATH                                  227\n",
       "ACUTE CORONARY SYNDROME                                       225\n",
       "                                                             ... \n",
       "N/V, HYPERGLYCEMIA,NEW ONSET A-FIB                              1\n",
       "N. STEMI                                                        1\n",
       "NAUSEA, DYSPNEA                                                 1\n",
       "NAUSEA, VOMITING/CHOLONGITIS                                    1\n",
       "NAUSEA, VOMITTING                                               1\n",
       "NAUSEA,UNABLE TO TAKE PO                                        1\n",
       "NECK CELLULITIS                                                 1\n",
       "NEC PANCREATITIS                                                1\n",
       "NEAR SYNCOPE\\LEFT HEART CATHETERIZATION                         1\n",
       "NEAR SYNCOPE;GASTROINTESTINAL BLEED                             1\n",
       "NBB                                                             1\n",
       "NAUSEA;VOMITTING; HYPOTENSION                                   1\n",
       "NAUSEA;VOMITING;S/P ABSCESS DRAINAGE                            1\n",
       "NAUSEA;VOMITING;JAUNDICE                                        1\n",
       "NAUSEA;VOMITING;DEHYDRATION                                     1\n",
       "NAUSEA;VOMITING;ALCOHOL WITHDRAWAL                              1\n",
       "NAUSEA;VOMITING; IMBALANCE                                      1\n",
       "NAUSEA;HEADACHE                                                 1\n",
       "NAUSEA; VOMITTING                                               1\n",
       "NAUSEA; VOMITING; RENAL FAILURE                                 1\n",
       "NAUSEA; VOMITING; ABD PAIN                                      1\n",
       "NAUSEA/VOMITING,S/P TRANSPLANT                                  1\n",
       "NAUSEA/VOMITING,GASTROPARESIS                                   1\n",
       "NAUSEA-VOMITING-HYPERGLYCEMIA-INCREASED WBC                     1\n",
       "NAUSEA-HEADACHE                                                 1\n",
       "NAUSEA,VOMITING,DIARRHEA                                        1\n",
       "NAUSEA,VOMITING,DEHYDRATION                                     1\n",
       "NAUSEA,VOMITING,CHOLECYSTITIS                                   1\n",
       "NAUSEA,VOMITING,ABD PAIN,?UTI                                   1\n",
       "        MITRAL STENOSIS\\MITRAL VALVE REPLACEMENT /SDA           1\n",
       "Name: DIAGNOSIS, Length: 15691, dtype: int64"
      ]
     },
     "execution_count": 19,
     "metadata": {},
     "output_type": "execute_result"
    }
   ],
   "source": [
    "admissions.DIAGNOSIS.astype(\"category\").value_counts()"
   ]
  },
  {
   "cell_type": "code",
   "execution_count": 3,
   "metadata": {},
   "outputs": [],
   "source": [
    "patients = pd.read_csv(\"./files/mimiciii/1.4/PATIENTS.csv\")"
   ]
  },
  {
   "cell_type": "code",
   "execution_count": 4,
   "metadata": {},
   "outputs": [
    {
     "data": {
      "text/html": [
       "<div>\n",
       "<style scoped>\n",
       "    .dataframe tbody tr th:only-of-type {\n",
       "        vertical-align: middle;\n",
       "    }\n",
       "\n",
       "    .dataframe tbody tr th {\n",
       "        vertical-align: top;\n",
       "    }\n",
       "\n",
       "    .dataframe thead th {\n",
       "        text-align: right;\n",
       "    }\n",
       "</style>\n",
       "<table border=\"1\" class=\"dataframe\">\n",
       "  <thead>\n",
       "    <tr style=\"text-align: right;\">\n",
       "      <th></th>\n",
       "      <th>ROW_ID</th>\n",
       "      <th>SUBJECT_ID</th>\n",
       "      <th>GENDER</th>\n",
       "      <th>DOB</th>\n",
       "      <th>DOD</th>\n",
       "      <th>DOD_HOSP</th>\n",
       "      <th>DOD_SSN</th>\n",
       "      <th>EXPIRE_FLAG</th>\n",
       "    </tr>\n",
       "  </thead>\n",
       "  <tbody>\n",
       "    <tr>\n",
       "      <th>0</th>\n",
       "      <td>234</td>\n",
       "      <td>249</td>\n",
       "      <td>F</td>\n",
       "      <td>2075-03-13 00:00:00</td>\n",
       "      <td>NaN</td>\n",
       "      <td>NaN</td>\n",
       "      <td>NaN</td>\n",
       "      <td>0</td>\n",
       "    </tr>\n",
       "    <tr>\n",
       "      <th>1</th>\n",
       "      <td>235</td>\n",
       "      <td>250</td>\n",
       "      <td>F</td>\n",
       "      <td>2164-12-27 00:00:00</td>\n",
       "      <td>2188-11-22 00:00:00</td>\n",
       "      <td>2188-11-22 00:00:00</td>\n",
       "      <td>NaN</td>\n",
       "      <td>1</td>\n",
       "    </tr>\n",
       "    <tr>\n",
       "      <th>2</th>\n",
       "      <td>236</td>\n",
       "      <td>251</td>\n",
       "      <td>M</td>\n",
       "      <td>2090-03-15 00:00:00</td>\n",
       "      <td>NaN</td>\n",
       "      <td>NaN</td>\n",
       "      <td>NaN</td>\n",
       "      <td>0</td>\n",
       "    </tr>\n",
       "    <tr>\n",
       "      <th>3</th>\n",
       "      <td>237</td>\n",
       "      <td>252</td>\n",
       "      <td>M</td>\n",
       "      <td>2078-03-06 00:00:00</td>\n",
       "      <td>NaN</td>\n",
       "      <td>NaN</td>\n",
       "      <td>NaN</td>\n",
       "      <td>0</td>\n",
       "    </tr>\n",
       "    <tr>\n",
       "      <th>4</th>\n",
       "      <td>238</td>\n",
       "      <td>253</td>\n",
       "      <td>F</td>\n",
       "      <td>2089-11-26 00:00:00</td>\n",
       "      <td>NaN</td>\n",
       "      <td>NaN</td>\n",
       "      <td>NaN</td>\n",
       "      <td>0</td>\n",
       "    </tr>\n",
       "  </tbody>\n",
       "</table>\n",
       "</div>"
      ],
      "text/plain": [
       "   ROW_ID  SUBJECT_ID GENDER                  DOB                  DOD  \\\n",
       "0     234         249      F  2075-03-13 00:00:00                  NaN   \n",
       "1     235         250      F  2164-12-27 00:00:00  2188-11-22 00:00:00   \n",
       "2     236         251      M  2090-03-15 00:00:00                  NaN   \n",
       "3     237         252      M  2078-03-06 00:00:00                  NaN   \n",
       "4     238         253      F  2089-11-26 00:00:00                  NaN   \n",
       "\n",
       "              DOD_HOSP DOD_SSN  EXPIRE_FLAG  \n",
       "0                  NaN     NaN            0  \n",
       "1  2188-11-22 00:00:00     NaN            1  \n",
       "2                  NaN     NaN            0  \n",
       "3                  NaN     NaN            0  \n",
       "4                  NaN     NaN            0  "
      ]
     },
     "execution_count": 4,
     "metadata": {},
     "output_type": "execute_result"
    }
   ],
   "source": [
    "patients.head()"
   ]
  },
  {
   "cell_type": "code",
   "execution_count": 24,
   "metadata": {},
   "outputs": [
    {
     "data": {
      "text/plain": [
       "M    26121\n",
       "F    20399\n",
       "Name: GENDER, dtype: int64"
      ]
     },
     "execution_count": 24,
     "metadata": {},
     "output_type": "execute_result"
    }
   ],
   "source": [
    "patients.GENDER.astype(\"category\").value_counts()"
   ]
  },
  {
   "cell_type": "code",
   "execution_count": 10,
   "metadata": {},
   "outputs": [],
   "source": [
    "merg1 = pd.merge(admissions, patients, how='inner',on='SUBJECT_ID',suffixes=['_a','_p'])"
   ]
  },
  {
   "cell_type": "markdown",
   "metadata": {},
   "source": [
    "### DRG codes\n",
    "- The diagnosis-related group codes is a system to classify hospital cases into one of 467 cases."
   ]
  },
  {
   "cell_type": "code",
   "execution_count": 11,
   "metadata": {},
   "outputs": [
    {
     "data": {
      "text/html": [
       "<div>\n",
       "<style scoped>\n",
       "    .dataframe tbody tr th:only-of-type {\n",
       "        vertical-align: middle;\n",
       "    }\n",
       "\n",
       "    .dataframe tbody tr th {\n",
       "        vertical-align: top;\n",
       "    }\n",
       "\n",
       "    .dataframe thead th {\n",
       "        text-align: right;\n",
       "    }\n",
       "</style>\n",
       "<table border=\"1\" class=\"dataframe\">\n",
       "  <thead>\n",
       "    <tr style=\"text-align: right;\">\n",
       "      <th></th>\n",
       "      <th>ROW_ID_a</th>\n",
       "      <th>SUBJECT_ID</th>\n",
       "      <th>HADM_ID</th>\n",
       "      <th>ADMITTIME</th>\n",
       "      <th>DISCHTIME</th>\n",
       "      <th>DEATHTIME</th>\n",
       "      <th>ADMISSION_TYPE</th>\n",
       "      <th>ADMISSION_LOCATION</th>\n",
       "      <th>DISCHARGE_LOCATION</th>\n",
       "      <th>INSURANCE</th>\n",
       "      <th>...</th>\n",
       "      <th>HOSPITAL_EXPIRE_FLAG</th>\n",
       "      <th>HAS_CHARTEVENTS_DATA</th>\n",
       "      <th>LOS</th>\n",
       "      <th>ROW_ID_p</th>\n",
       "      <th>GENDER</th>\n",
       "      <th>DOB</th>\n",
       "      <th>DOD</th>\n",
       "      <th>DOD_HOSP</th>\n",
       "      <th>DOD_SSN</th>\n",
       "      <th>EXPIRE_FLAG</th>\n",
       "    </tr>\n",
       "  </thead>\n",
       "  <tbody>\n",
       "    <tr>\n",
       "      <th>0</th>\n",
       "      <td>21</td>\n",
       "      <td>22</td>\n",
       "      <td>165315</td>\n",
       "      <td>2196-04-09 12:26:00</td>\n",
       "      <td>2196-04-10 15:54:00</td>\n",
       "      <td>NaN</td>\n",
       "      <td>EMERGENCY</td>\n",
       "      <td>EMERGENCY ROOM ADMIT</td>\n",
       "      <td>DISC-TRAN CANCER/CHLDRN H</td>\n",
       "      <td>Private</td>\n",
       "      <td>...</td>\n",
       "      <td>0</td>\n",
       "      <td>1</td>\n",
       "      <td>1 days 03:28:00</td>\n",
       "      <td>19</td>\n",
       "      <td>F</td>\n",
       "      <td>2131-05-07 00:00:00</td>\n",
       "      <td>NaN</td>\n",
       "      <td>NaN</td>\n",
       "      <td>NaN</td>\n",
       "      <td>0</td>\n",
       "    </tr>\n",
       "    <tr>\n",
       "      <th>1</th>\n",
       "      <td>22</td>\n",
       "      <td>23</td>\n",
       "      <td>152223</td>\n",
       "      <td>2153-09-03 07:15:00</td>\n",
       "      <td>2153-09-08 19:10:00</td>\n",
       "      <td>NaN</td>\n",
       "      <td>ELECTIVE</td>\n",
       "      <td>PHYS REFERRAL/NORMAL DELI</td>\n",
       "      <td>HOME HEALTH CARE</td>\n",
       "      <td>Medicare</td>\n",
       "      <td>...</td>\n",
       "      <td>0</td>\n",
       "      <td>1</td>\n",
       "      <td>5 days 11:55:00</td>\n",
       "      <td>20</td>\n",
       "      <td>M</td>\n",
       "      <td>2082-07-17 00:00:00</td>\n",
       "      <td>NaN</td>\n",
       "      <td>NaN</td>\n",
       "      <td>NaN</td>\n",
       "      <td>0</td>\n",
       "    </tr>\n",
       "    <tr>\n",
       "      <th>2</th>\n",
       "      <td>23</td>\n",
       "      <td>23</td>\n",
       "      <td>124321</td>\n",
       "      <td>2157-10-18 19:34:00</td>\n",
       "      <td>2157-10-25 14:00:00</td>\n",
       "      <td>NaN</td>\n",
       "      <td>EMERGENCY</td>\n",
       "      <td>TRANSFER FROM HOSP/EXTRAM</td>\n",
       "      <td>HOME HEALTH CARE</td>\n",
       "      <td>Medicare</td>\n",
       "      <td>...</td>\n",
       "      <td>0</td>\n",
       "      <td>1</td>\n",
       "      <td>6 days 18:26:00</td>\n",
       "      <td>20</td>\n",
       "      <td>M</td>\n",
       "      <td>2082-07-17 00:00:00</td>\n",
       "      <td>NaN</td>\n",
       "      <td>NaN</td>\n",
       "      <td>NaN</td>\n",
       "      <td>0</td>\n",
       "    </tr>\n",
       "    <tr>\n",
       "      <th>3</th>\n",
       "      <td>24</td>\n",
       "      <td>24</td>\n",
       "      <td>161859</td>\n",
       "      <td>2139-06-06 16:14:00</td>\n",
       "      <td>2139-06-09 12:48:00</td>\n",
       "      <td>NaN</td>\n",
       "      <td>EMERGENCY</td>\n",
       "      <td>TRANSFER FROM HOSP/EXTRAM</td>\n",
       "      <td>HOME</td>\n",
       "      <td>Private</td>\n",
       "      <td>...</td>\n",
       "      <td>0</td>\n",
       "      <td>1</td>\n",
       "      <td>2 days 20:34:00</td>\n",
       "      <td>21</td>\n",
       "      <td>M</td>\n",
       "      <td>2100-05-31 00:00:00</td>\n",
       "      <td>NaN</td>\n",
       "      <td>NaN</td>\n",
       "      <td>NaN</td>\n",
       "      <td>0</td>\n",
       "    </tr>\n",
       "    <tr>\n",
       "      <th>4</th>\n",
       "      <td>25</td>\n",
       "      <td>25</td>\n",
       "      <td>129635</td>\n",
       "      <td>2160-11-02 02:06:00</td>\n",
       "      <td>2160-11-05 14:55:00</td>\n",
       "      <td>NaN</td>\n",
       "      <td>EMERGENCY</td>\n",
       "      <td>EMERGENCY ROOM ADMIT</td>\n",
       "      <td>HOME</td>\n",
       "      <td>Private</td>\n",
       "      <td>...</td>\n",
       "      <td>0</td>\n",
       "      <td>1</td>\n",
       "      <td>3 days 12:49:00</td>\n",
       "      <td>22</td>\n",
       "      <td>M</td>\n",
       "      <td>2101-11-21 00:00:00</td>\n",
       "      <td>NaN</td>\n",
       "      <td>NaN</td>\n",
       "      <td>NaN</td>\n",
       "      <td>0</td>\n",
       "    </tr>\n",
       "  </tbody>\n",
       "</table>\n",
       "<p>5 rows × 27 columns</p>\n",
       "</div>"
      ],
      "text/plain": [
       "   ROW_ID_a  SUBJECT_ID  HADM_ID           ADMITTIME           DISCHTIME  \\\n",
       "0        21          22   165315 2196-04-09 12:26:00 2196-04-10 15:54:00   \n",
       "1        22          23   152223 2153-09-03 07:15:00 2153-09-08 19:10:00   \n",
       "2        23          23   124321 2157-10-18 19:34:00 2157-10-25 14:00:00   \n",
       "3        24          24   161859 2139-06-06 16:14:00 2139-06-09 12:48:00   \n",
       "4        25          25   129635 2160-11-02 02:06:00 2160-11-05 14:55:00   \n",
       "\n",
       "  DEATHTIME ADMISSION_TYPE         ADMISSION_LOCATION  \\\n",
       "0       NaN      EMERGENCY       EMERGENCY ROOM ADMIT   \n",
       "1       NaN       ELECTIVE  PHYS REFERRAL/NORMAL DELI   \n",
       "2       NaN      EMERGENCY  TRANSFER FROM HOSP/EXTRAM   \n",
       "3       NaN      EMERGENCY  TRANSFER FROM HOSP/EXTRAM   \n",
       "4       NaN      EMERGENCY       EMERGENCY ROOM ADMIT   \n",
       "\n",
       "          DISCHARGE_LOCATION INSURANCE  ... HOSPITAL_EXPIRE_FLAG  \\\n",
       "0  DISC-TRAN CANCER/CHLDRN H   Private  ...                    0   \n",
       "1           HOME HEALTH CARE  Medicare  ...                    0   \n",
       "2           HOME HEALTH CARE  Medicare  ...                    0   \n",
       "3                       HOME   Private  ...                    0   \n",
       "4                       HOME   Private  ...                    0   \n",
       "\n",
       "  HAS_CHARTEVENTS_DATA             LOS ROW_ID_p GENDER                  DOB  \\\n",
       "0                    1 1 days 03:28:00       19      F  2131-05-07 00:00:00   \n",
       "1                    1 5 days 11:55:00       20      M  2082-07-17 00:00:00   \n",
       "2                    1 6 days 18:26:00       20      M  2082-07-17 00:00:00   \n",
       "3                    1 2 days 20:34:00       21      M  2100-05-31 00:00:00   \n",
       "4                    1 3 days 12:49:00       22      M  2101-11-21 00:00:00   \n",
       "\n",
       "   DOD  DOD_HOSP  DOD_SSN EXPIRE_FLAG  \n",
       "0  NaN       NaN      NaN           0  \n",
       "1  NaN       NaN      NaN           0  \n",
       "2  NaN       NaN      NaN           0  \n",
       "3  NaN       NaN      NaN           0  \n",
       "4  NaN       NaN      NaN           0  \n",
       "\n",
       "[5 rows x 27 columns]"
      ]
     },
     "execution_count": 11,
     "metadata": {},
     "output_type": "execute_result"
    }
   ],
   "source": [
    "merg1.head()"
   ]
  },
  {
   "cell_type": "code",
   "execution_count": 15,
   "metadata": {},
   "outputs": [],
   "source": [
    "merg1['DOB'] = pd.to_datetime(merg1.DOB)"
   ]
  },
  {
   "cell_type": "code",
   "execution_count": 21,
   "metadata": {},
   "outputs": [
    {
     "data": {
      "text/plain": [
       "0        2131-05-07\n",
       "1        2082-07-17\n",
       "2        2082-07-17\n",
       "3        2100-05-31\n",
       "4        2101-11-21\n",
       "            ...    \n",
       "58971    2049-07-29\n",
       "58972    2044-12-27\n",
       "58973    2111-11-05\n",
       "58974    2067-09-21\n",
       "58975    2158-03-02\n",
       "Name: DOB, Length: 58976, dtype: object"
      ]
     },
     "execution_count": 21,
     "metadata": {},
     "output_type": "execute_result"
    }
   ],
   "source": [
    "merg1.DOB.dt.date"
   ]
  },
  {
   "cell_type": "markdown",
   "metadata": {},
   "source": [
    "According to [physionet tutorial](https://physionet.org/content/mimiciii/1.4/), all the observations who are older than 89 years old will be assigned a fake age. Here, I converted all the observations who are older than 89 years old to 89."
   ]
  },
  {
   "cell_type": "code",
   "execution_count": 50,
   "metadata": {},
   "outputs": [],
   "source": [
    "merg1['age'] = merg1.ADMITTIME.dt.year-merg1.DOB.dt.year"
   ]
  },
  {
   "cell_type": "code",
   "execution_count": 51,
   "metadata": {},
   "outputs": [
    {
     "data": {
      "text/plain": [
       "311"
      ]
     },
     "execution_count": 51,
     "metadata": {},
     "output_type": "execute_result"
    }
   ],
   "source": [
    "merg1.age.max()"
   ]
  },
  {
   "cell_type": "code",
   "execution_count": 49,
   "metadata": {},
   "outputs": [
    {
     "data": {
      "text/plain": [
       "311"
      ]
     },
     "execution_count": 49,
     "metadata": {},
     "output_type": "execute_result"
    }
   ],
   "source": [
    "merg1['age'] = np.where(merg1.age>89,89,merg1.age)"
   ]
  },
  {
   "cell_type": "code",
   "execution_count": 35,
   "metadata": {},
   "outputs": [],
   "source": [
    "import missingno as mn"
   ]
  },
  {
   "cell_type": "code",
   "execution_count": 36,
   "metadata": {},
   "outputs": [],
   "source": [
    "df1 = pd.read_csv('bigquery/results-20201024-111508.csv')"
   ]
  },
  {
   "cell_type": "code",
   "execution_count": 37,
   "metadata": {},
   "outputs": [],
   "source": [
    "df2 = pd.read_csv('bigquery/results-20201024-114059.csv')\n",
    "df3 = pd.read_csv('bigquery/results-20201024-114418.csv')\n",
    "df4 = pd.read_csv('bigquery/results-20201024-114603.csv')\n",
    "df5 = pd.read_csv('bigquery/results-20201024-114649.csv')"
   ]
  },
  {
   "cell_type": "code",
   "execution_count": 39,
   "metadata": {},
   "outputs": [],
   "source": [
    "df = pd.concat([df1,df2,df3,df4,df5]).reset_index(drop=True)"
   ]
  },
  {
   "cell_type": "code",
   "execution_count": 40,
   "metadata": {},
   "outputs": [
    {
     "data": {
      "text/plain": [
       "(70882, 45)"
      ]
     },
     "execution_count": 40,
     "metadata": {},
     "output_type": "execute_result"
    }
   ],
   "source": [
    "df.shape"
   ]
  },
  {
   "cell_type": "code",
   "execution_count": 41,
   "metadata": {},
   "outputs": [
    {
     "data": {
      "text/html": [
       "<div>\n",
       "<style scoped>\n",
       "    .dataframe tbody tr th:only-of-type {\n",
       "        vertical-align: middle;\n",
       "    }\n",
       "\n",
       "    .dataframe tbody tr th {\n",
       "        vertical-align: top;\n",
       "    }\n",
       "\n",
       "    .dataframe thead th {\n",
       "        text-align: right;\n",
       "    }\n",
       "</style>\n",
       "<table border=\"1\" class=\"dataframe\">\n",
       "  <thead>\n",
       "    <tr style=\"text-align: right;\">\n",
       "      <th></th>\n",
       "      <th>ROW_ID</th>\n",
       "      <th>SUBJECT_ID</th>\n",
       "      <th>HADM_ID</th>\n",
       "      <th>ADMITTIME</th>\n",
       "      <th>DISCHTIME</th>\n",
       "      <th>DEATHTIME</th>\n",
       "      <th>ADMISSION_TYPE</th>\n",
       "      <th>ADMISSION_LOCATION</th>\n",
       "      <th>DISCHARGE_LOCATION</th>\n",
       "      <th>INSURANCE</th>\n",
       "      <th>...</th>\n",
       "      <th>Glucose_Mean</th>\n",
       "      <th>icustay_id</th>\n",
       "      <th>INTIME</th>\n",
       "      <th>OUTTIME</th>\n",
       "      <th>LOS</th>\n",
       "      <th>Height</th>\n",
       "      <th>Weight</th>\n",
       "      <th>GENDER</th>\n",
       "      <th>DOB</th>\n",
       "      <th>DOD</th>\n",
       "    </tr>\n",
       "  </thead>\n",
       "  <tbody>\n",
       "    <tr>\n",
       "      <th>0</th>\n",
       "      <td>1</td>\n",
       "      <td>2</td>\n",
       "      <td>163353</td>\n",
       "      <td>2138-07-17T19:04:00</td>\n",
       "      <td>2138-07-21T15:48:00</td>\n",
       "      <td>NaN</td>\n",
       "      <td>NEWBORN</td>\n",
       "      <td>PHYS REFERRAL/NORMAL DELI</td>\n",
       "      <td>HOME</td>\n",
       "      <td>Private</td>\n",
       "      <td>...</td>\n",
       "      <td>NaN</td>\n",
       "      <td>243653.0</td>\n",
       "      <td>2138-07-17T21:20:07</td>\n",
       "      <td>2138-07-17T23:32:21</td>\n",
       "      <td>0.0918</td>\n",
       "      <td>NaN</td>\n",
       "      <td>NaN</td>\n",
       "      <td>M</td>\n",
       "      <td>2138-07-17T00:00:00</td>\n",
       "      <td>NaN</td>\n",
       "    </tr>\n",
       "    <tr>\n",
       "      <th>1</th>\n",
       "      <td>2</td>\n",
       "      <td>3</td>\n",
       "      <td>145834</td>\n",
       "      <td>2101-10-20T19:08:00</td>\n",
       "      <td>2101-10-31T13:58:00</td>\n",
       "      <td>NaN</td>\n",
       "      <td>EMERGENCY</td>\n",
       "      <td>EMERGENCY ROOM ADMIT</td>\n",
       "      <td>SNF</td>\n",
       "      <td>Medicare</td>\n",
       "      <td>...</td>\n",
       "      <td>232.416667</td>\n",
       "      <td>211552.0</td>\n",
       "      <td>2101-10-20T19:10:11</td>\n",
       "      <td>2101-10-26T20:43:09</td>\n",
       "      <td>6.0646</td>\n",
       "      <td>179.07</td>\n",
       "      <td>96.8</td>\n",
       "      <td>M</td>\n",
       "      <td>2025-04-11T00:00:00</td>\n",
       "      <td>2102-06-14T00:00:00</td>\n",
       "    </tr>\n",
       "    <tr>\n",
       "      <th>2</th>\n",
       "      <td>3</td>\n",
       "      <td>4</td>\n",
       "      <td>185777</td>\n",
       "      <td>2191-03-16T00:28:00</td>\n",
       "      <td>2191-03-23T18:41:00</td>\n",
       "      <td>NaN</td>\n",
       "      <td>EMERGENCY</td>\n",
       "      <td>EMERGENCY ROOM ADMIT</td>\n",
       "      <td>HOME WITH HOME IV PROVIDR</td>\n",
       "      <td>Private</td>\n",
       "      <td>...</td>\n",
       "      <td>199.666667</td>\n",
       "      <td>294638.0</td>\n",
       "      <td>2191-03-16T00:29:31</td>\n",
       "      <td>2191-03-17T16:46:31</td>\n",
       "      <td>1.6785</td>\n",
       "      <td>NaN</td>\n",
       "      <td>53.6</td>\n",
       "      <td>F</td>\n",
       "      <td>2143-05-12T00:00:00</td>\n",
       "      <td>NaN</td>\n",
       "    </tr>\n",
       "    <tr>\n",
       "      <th>3</th>\n",
       "      <td>4</td>\n",
       "      <td>5</td>\n",
       "      <td>178980</td>\n",
       "      <td>2103-02-02T04:31:00</td>\n",
       "      <td>2103-02-04T12:15:00</td>\n",
       "      <td>NaN</td>\n",
       "      <td>NEWBORN</td>\n",
       "      <td>PHYS REFERRAL/NORMAL DELI</td>\n",
       "      <td>HOME</td>\n",
       "      <td>Private</td>\n",
       "      <td>...</td>\n",
       "      <td>NaN</td>\n",
       "      <td>214757.0</td>\n",
       "      <td>2103-02-02T06:04:24</td>\n",
       "      <td>2103-02-02T08:06:00</td>\n",
       "      <td>0.0844</td>\n",
       "      <td>NaN</td>\n",
       "      <td>NaN</td>\n",
       "      <td>M</td>\n",
       "      <td>2103-02-02T00:00:00</td>\n",
       "      <td>NaN</td>\n",
       "    </tr>\n",
       "    <tr>\n",
       "      <th>4</th>\n",
       "      <td>5</td>\n",
       "      <td>6</td>\n",
       "      <td>107064</td>\n",
       "      <td>2175-05-30T07:15:00</td>\n",
       "      <td>2175-06-15T16:00:00</td>\n",
       "      <td>NaN</td>\n",
       "      <td>ELECTIVE</td>\n",
       "      <td>PHYS REFERRAL/NORMAL DELI</td>\n",
       "      <td>HOME HEALTH CARE</td>\n",
       "      <td>Medicare</td>\n",
       "      <td>...</td>\n",
       "      <td>148.500000</td>\n",
       "      <td>228232.0</td>\n",
       "      <td>2175-05-30T21:30:54</td>\n",
       "      <td>2175-06-03T13:39:54</td>\n",
       "      <td>3.6729</td>\n",
       "      <td>NaN</td>\n",
       "      <td>NaN</td>\n",
       "      <td>F</td>\n",
       "      <td>2109-06-21T00:00:00</td>\n",
       "      <td>NaN</td>\n",
       "    </tr>\n",
       "  </tbody>\n",
       "</table>\n",
       "<p>5 rows × 45 columns</p>\n",
       "</div>"
      ],
      "text/plain": [
       "   ROW_ID  SUBJECT_ID  HADM_ID            ADMITTIME            DISCHTIME  \\\n",
       "0       1           2   163353  2138-07-17T19:04:00  2138-07-21T15:48:00   \n",
       "1       2           3   145834  2101-10-20T19:08:00  2101-10-31T13:58:00   \n",
       "2       3           4   185777  2191-03-16T00:28:00  2191-03-23T18:41:00   \n",
       "3       4           5   178980  2103-02-02T04:31:00  2103-02-04T12:15:00   \n",
       "4       5           6   107064  2175-05-30T07:15:00  2175-06-15T16:00:00   \n",
       "\n",
       "  DEATHTIME ADMISSION_TYPE         ADMISSION_LOCATION  \\\n",
       "0       NaN        NEWBORN  PHYS REFERRAL/NORMAL DELI   \n",
       "1       NaN      EMERGENCY       EMERGENCY ROOM ADMIT   \n",
       "2       NaN      EMERGENCY       EMERGENCY ROOM ADMIT   \n",
       "3       NaN        NEWBORN  PHYS REFERRAL/NORMAL DELI   \n",
       "4       NaN       ELECTIVE  PHYS REFERRAL/NORMAL DELI   \n",
       "\n",
       "          DISCHARGE_LOCATION INSURANCE  ... Glucose_Mean icustay_id  \\\n",
       "0                       HOME   Private  ...          NaN   243653.0   \n",
       "1                        SNF  Medicare  ...   232.416667   211552.0   \n",
       "2  HOME WITH HOME IV PROVIDR   Private  ...   199.666667   294638.0   \n",
       "3                       HOME   Private  ...          NaN   214757.0   \n",
       "4           HOME HEALTH CARE  Medicare  ...   148.500000   228232.0   \n",
       "\n",
       "                INTIME              OUTTIME     LOS  Height Weight  GENDER  \\\n",
       "0  2138-07-17T21:20:07  2138-07-17T23:32:21  0.0918     NaN    NaN       M   \n",
       "1  2101-10-20T19:10:11  2101-10-26T20:43:09  6.0646  179.07   96.8       M   \n",
       "2  2191-03-16T00:29:31  2191-03-17T16:46:31  1.6785     NaN   53.6       F   \n",
       "3  2103-02-02T06:04:24  2103-02-02T08:06:00  0.0844     NaN    NaN       M   \n",
       "4  2175-05-30T21:30:54  2175-06-03T13:39:54  3.6729     NaN    NaN       F   \n",
       "\n",
       "                   DOB                  DOD  \n",
       "0  2138-07-17T00:00:00                  NaN  \n",
       "1  2025-04-11T00:00:00  2102-06-14T00:00:00  \n",
       "2  2143-05-12T00:00:00                  NaN  \n",
       "3  2103-02-02T00:00:00                  NaN  \n",
       "4  2109-06-21T00:00:00                  NaN  \n",
       "\n",
       "[5 rows x 45 columns]"
      ]
     },
     "execution_count": 41,
     "metadata": {},
     "output_type": "execute_result"
    }
   ],
   "source": [
    "df.head()"
   ]
  },
  {
   "cell_type": "code",
   "execution_count": 45,
   "metadata": {},
   "outputs": [],
   "source": [
    "df = df.drop_duplicates(subset='SUBJECT_ID', keep='first').reset_index(drop=True)"
   ]
  },
  {
   "cell_type": "code",
   "execution_count": 46,
   "metadata": {},
   "outputs": [],
   "source": [
    "df[\"ADMITTIME\"] = pd.to_datetime(df.ADMITTIME)\n",
    "df[\"DISCHTIME\"] = pd.to_datetime(df.DISCHTIME)\n",
    "df[\"Hosp_LOS\"] = df.DISCHTIME - df.ADMITTIME"
   ]
  },
  {
   "cell_type": "code",
   "execution_count": 47,
   "metadata": {},
   "outputs": [
    {
     "data": {
      "text/plain": [
       "(46520, 46)"
      ]
     },
     "execution_count": 47,
     "metadata": {},
     "output_type": "execute_result"
    }
   ],
   "source": [
    "df.shape"
   ]
  },
  {
   "cell_type": "code",
   "execution_count": 49,
   "metadata": {},
   "outputs": [
    {
     "data": {
      "text/plain": [
       "<matplotlib.axes._subplots.AxesSubplot at 0x22d7046bd30>"
      ]
     },
     "execution_count": 49,
     "metadata": {},
     "output_type": "execute_result"
    },
    {
     "data": {
      "image/png": "[encoded data removed]",
      "text/plain": [
       "<Figure size 1800x720 with 2 Axes>"
      ]
     },
     "metadata": {},
     "output_type": "display_data"
    }
   ],
   "source": [
    "mn.matrix(df)"
   ]
  },
  {
   "cell_type": "code",
   "execution_count": 51,
   "metadata": {},
   "outputs": [],
   "source": [
    "df['DOB'] = pd.to_datetime(df.DOB)"
   ]
  },
  {
   "cell_type": "code",
   "execution_count": 52,
   "metadata": {},
   "outputs": [],
   "source": [
    "df['age'] = df.ADMITTIME.dt.year-df.DOB.dt.year"
   ]
  },
  {
   "cell_type": "code",
   "execution_count": 53,
   "metadata": {},
   "outputs": [],
   "source": [
    "df['age'] = np.where(df.age>89,89,df.age)"
   ]
  },
  {
   "cell_type": "code",
   "execution_count": 56,
   "metadata": {},
   "outputs": [],
   "source": [
    "df = df.rename({'LOS':'ICU_LOS'}, axis='columns')"
   ]
  },
  {
   "cell_type": "code",
   "execution_count": 59,
   "metadata": {},
   "outputs": [],
   "source": [
    "df.to_csv(\"processed_data1.csv\")"
   ]
  }
 ],
 "metadata": {
  "kernelspec": {
   "display_name": "Python 3",
   "language": "python",
   "name": "python3"
  },
  "language_info": {
   "codemirror_mode": {
    "name": "ipython",
    "version": 3
   },
   "file_extension": ".py",
   "mimetype": "text/x-python",
   "name": "python",
   "nbconvert_exporter": "python",
   "pygments_lexer": "ipython3",
   "version": "3.7.8"
  }
 },
 "nbformat": 4,
 "nbformat_minor": 2
}
