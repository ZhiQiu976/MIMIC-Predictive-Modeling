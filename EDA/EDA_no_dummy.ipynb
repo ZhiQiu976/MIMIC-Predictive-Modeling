{
 "cells": [
  {
   "cell_type": "markdown",
   "metadata": {},
   "source": [
    "### Reformat X_train and X_test with original categorical columns"
   ]
  },
  {
   "cell_type": "code",
   "execution_count": 1,
   "metadata": {},
   "outputs": [],
   "source": [
    "import pandas as pd\n",
    "import numpy as np"
   ]
  },
  {
   "cell_type": "code",
   "execution_count": 2,
   "metadata": {},
   "outputs": [],
   "source": [
    "df = pd.read_csv(\"processed_data1.csv\", index_col=0)"
   ]
  },
  {
   "cell_type": "code",
   "execution_count": 3,
   "metadata": {},
   "outputs": [],
   "source": [
    "lab = pd.read_csv(\"lab.csv\", index_col=0)"
   ]
  },
  {
   "cell_type": "code",
   "execution_count": 4,
   "metadata": {},
   "outputs": [],
   "source": [
    "df = df.merge(lab, how='left', on = 'icustay_id')"
   ]
  },
  {
   "cell_type": "code",
   "execution_count": 5,
   "metadata": {},
   "outputs": [],
   "source": [
    "df = df.drop('ROW_ID', axis=1)"
   ]
  },
  {
   "cell_type": "code",
   "execution_count": 6,
   "metadata": {},
   "outputs": [
    {
     "data": {
      "text/html": [
       "<div>\n",
       "<style scoped>\n",
       "    .dataframe tbody tr th:only-of-type {\n",
       "        vertical-align: middle;\n",
       "    }\n",
       "\n",
       "    .dataframe tbody tr th {\n",
       "        vertical-align: top;\n",
       "    }\n",
       "\n",
       "    .dataframe thead th {\n",
       "        text-align: right;\n",
       "    }\n",
       "</style>\n",
       "<table border=\"1\" class=\"dataframe\">\n",
       "  <thead>\n",
       "    <tr style=\"text-align: right;\">\n",
       "      <th></th>\n",
       "      <th>SUBJECT_ID</th>\n",
       "      <th>HADM_ID</th>\n",
       "      <th>ADMITTIME</th>\n",
       "      <th>DISCHTIME</th>\n",
       "      <th>DEATHTIME</th>\n",
       "      <th>ADMISSION_TYPE</th>\n",
       "      <th>ADMISSION_LOCATION</th>\n",
       "      <th>DISCHARGE_LOCATION</th>\n",
       "      <th>INSURANCE</th>\n",
       "      <th>LANGUAGE</th>\n",
       "      <th>...</th>\n",
       "      <th>INR_min</th>\n",
       "      <th>INR_max</th>\n",
       "      <th>PT_min</th>\n",
       "      <th>PT_max</th>\n",
       "      <th>SODIUM_min</th>\n",
       "      <th>SODIUM_max</th>\n",
       "      <th>BUN_min</th>\n",
       "      <th>BUN_max</th>\n",
       "      <th>WBC_min</th>\n",
       "      <th>WBC_max</th>\n",
       "    </tr>\n",
       "  </thead>\n",
       "  <tbody>\n",
       "    <tr>\n",
       "      <th>0</th>\n",
       "      <td>2</td>\n",
       "      <td>163353</td>\n",
       "      <td>2138/7/17 19:04</td>\n",
       "      <td>2138/7/21 15:48</td>\n",
       "      <td>NaN</td>\n",
       "      <td>NEWBORN</td>\n",
       "      <td>PHYS REFERRAL/NORMAL DELI</td>\n",
       "      <td>HOME</td>\n",
       "      <td>Private</td>\n",
       "      <td>NaN</td>\n",
       "      <td>...</td>\n",
       "      <td>NaN</td>\n",
       "      <td>NaN</td>\n",
       "      <td>NaN</td>\n",
       "      <td>NaN</td>\n",
       "      <td>NaN</td>\n",
       "      <td>NaN</td>\n",
       "      <td>NaN</td>\n",
       "      <td>NaN</td>\n",
       "      <td>0.1</td>\n",
       "      <td>22.0</td>\n",
       "    </tr>\n",
       "    <tr>\n",
       "      <th>1</th>\n",
       "      <td>3</td>\n",
       "      <td>145834</td>\n",
       "      <td>2101/10/20 19:08</td>\n",
       "      <td>2101/10/31 13:58</td>\n",
       "      <td>NaN</td>\n",
       "      <td>EMERGENCY</td>\n",
       "      <td>EMERGENCY ROOM ADMIT</td>\n",
       "      <td>SNF</td>\n",
       "      <td>Medicare</td>\n",
       "      <td>NaN</td>\n",
       "      <td>...</td>\n",
       "      <td>1.3</td>\n",
       "      <td>1.7</td>\n",
       "      <td>13.5</td>\n",
       "      <td>15.7</td>\n",
       "      <td>136.0</td>\n",
       "      <td>153.0</td>\n",
       "      <td>41.0</td>\n",
       "      <td>53.0</td>\n",
       "      <td>11.3</td>\n",
       "      <td>24.4</td>\n",
       "    </tr>\n",
       "    <tr>\n",
       "      <th>2</th>\n",
       "      <td>4</td>\n",
       "      <td>185777</td>\n",
       "      <td>2191/3/16 0:28</td>\n",
       "      <td>2191/3/23 18:41</td>\n",
       "      <td>NaN</td>\n",
       "      <td>EMERGENCY</td>\n",
       "      <td>EMERGENCY ROOM ADMIT</td>\n",
       "      <td>HOME WITH HOME IV PROVIDR</td>\n",
       "      <td>Private</td>\n",
       "      <td>NaN</td>\n",
       "      <td>...</td>\n",
       "      <td>1.1</td>\n",
       "      <td>1.1</td>\n",
       "      <td>12.8</td>\n",
       "      <td>12.8</td>\n",
       "      <td>141.0</td>\n",
       "      <td>141.0</td>\n",
       "      <td>10.0</td>\n",
       "      <td>10.0</td>\n",
       "      <td>9.7</td>\n",
       "      <td>9.7</td>\n",
       "    </tr>\n",
       "    <tr>\n",
       "      <th>3</th>\n",
       "      <td>5</td>\n",
       "      <td>178980</td>\n",
       "      <td>2103/2/2 4:31</td>\n",
       "      <td>2103/2/4 12:15</td>\n",
       "      <td>NaN</td>\n",
       "      <td>NEWBORN</td>\n",
       "      <td>PHYS REFERRAL/NORMAL DELI</td>\n",
       "      <td>HOME</td>\n",
       "      <td>Private</td>\n",
       "      <td>NaN</td>\n",
       "      <td>...</td>\n",
       "      <td>NaN</td>\n",
       "      <td>NaN</td>\n",
       "      <td>NaN</td>\n",
       "      <td>NaN</td>\n",
       "      <td>NaN</td>\n",
       "      <td>NaN</td>\n",
       "      <td>NaN</td>\n",
       "      <td>NaN</td>\n",
       "      <td>13.9</td>\n",
       "      <td>13.9</td>\n",
       "    </tr>\n",
       "    <tr>\n",
       "      <th>4</th>\n",
       "      <td>6</td>\n",
       "      <td>107064</td>\n",
       "      <td>2175/5/30 7:15</td>\n",
       "      <td>2175/6/15 16:00</td>\n",
       "      <td>NaN</td>\n",
       "      <td>ELECTIVE</td>\n",
       "      <td>PHYS REFERRAL/NORMAL DELI</td>\n",
       "      <td>HOME HEALTH CARE</td>\n",
       "      <td>Medicare</td>\n",
       "      <td>ENGL</td>\n",
       "      <td>...</td>\n",
       "      <td>1.0</td>\n",
       "      <td>1.4</td>\n",
       "      <td>12.6</td>\n",
       "      <td>14.6</td>\n",
       "      <td>134.0</td>\n",
       "      <td>138.0</td>\n",
       "      <td>62.0</td>\n",
       "      <td>65.0</td>\n",
       "      <td>10.6</td>\n",
       "      <td>10.6</td>\n",
       "    </tr>\n",
       "  </tbody>\n",
       "</table>\n",
       "<p>5 rows × 86 columns</p>\n",
       "</div>"
      ],
      "text/plain": [
       "   SUBJECT_ID  HADM_ID         ADMITTIME         DISCHTIME DEATHTIME  \\\n",
       "0           2   163353   2138/7/17 19:04   2138/7/21 15:48       NaN   \n",
       "1           3   145834  2101/10/20 19:08  2101/10/31 13:58       NaN   \n",
       "2           4   185777    2191/3/16 0:28   2191/3/23 18:41       NaN   \n",
       "3           5   178980     2103/2/2 4:31    2103/2/4 12:15       NaN   \n",
       "4           6   107064    2175/5/30 7:15   2175/6/15 16:00       NaN   \n",
       "\n",
       "  ADMISSION_TYPE         ADMISSION_LOCATION         DISCHARGE_LOCATION  \\\n",
       "0        NEWBORN  PHYS REFERRAL/NORMAL DELI                       HOME   \n",
       "1      EMERGENCY       EMERGENCY ROOM ADMIT                        SNF   \n",
       "2      EMERGENCY       EMERGENCY ROOM ADMIT  HOME WITH HOME IV PROVIDR   \n",
       "3        NEWBORN  PHYS REFERRAL/NORMAL DELI                       HOME   \n",
       "4       ELECTIVE  PHYS REFERRAL/NORMAL DELI           HOME HEALTH CARE   \n",
       "\n",
       "  INSURANCE LANGUAGE  ... INR_min INR_max PT_min PT_max SODIUM_min SODIUM_max  \\\n",
       "0   Private      NaN  ...     NaN     NaN    NaN    NaN        NaN        NaN   \n",
       "1  Medicare      NaN  ...     1.3     1.7   13.5   15.7      136.0      153.0   \n",
       "2   Private      NaN  ...     1.1     1.1   12.8   12.8      141.0      141.0   \n",
       "3   Private      NaN  ...     NaN     NaN    NaN    NaN        NaN        NaN   \n",
       "4  Medicare     ENGL  ...     1.0     1.4   12.6   14.6      134.0      138.0   \n",
       "\n",
       "   BUN_min  BUN_max  WBC_min  WBC_max  \n",
       "0      NaN      NaN      0.1     22.0  \n",
       "1     41.0     53.0     11.3     24.4  \n",
       "2     10.0     10.0      9.7      9.7  \n",
       "3      NaN      NaN     13.9     13.9  \n",
       "4     62.0     65.0     10.6     10.6  \n",
       "\n",
       "[5 rows x 86 columns]"
      ]
     },
     "execution_count": 6,
     "metadata": {},
     "output_type": "execute_result"
    }
   ],
   "source": [
    "df.head()"
   ]
  },
  {
   "cell_type": "code",
   "execution_count": 7,
   "metadata": {},
   "outputs": [],
   "source": [
    "# time in emergency department, if not enter, then 0\n",
    "df['EDREGTIME'] = df['EDREGTIME'].fillna(0)\n",
    "df['EDOUTTIME'] = df['EDOUTTIME'].fillna(0)\n",
    "df['EDstay'] = pd.to_datetime(df.EDOUTTIME) - pd.to_datetime(df.EDREGTIME)"
   ]
  },
  {
   "cell_type": "code",
   "execution_count": 8,
   "metadata": {},
   "outputs": [],
   "source": [
    "df['Hosp_LOS'] = pd.to_timedelta(df.Hosp_LOS).dt.total_seconds()\n",
    "df['EDstay'] = df.EDstay.dt.total_seconds()"
   ]
  },
  {
   "cell_type": "code",
   "execution_count": 9,
   "metadata": {},
   "outputs": [],
   "source": [
    "df_new = df.drop(['SUBJECT_ID', 'HADM_ID', 'icustay_id', \n",
    "                  'ADMITTIME', 'DISCHTIME', 'DEATHTIME', 'EDREGTIME', 'EDOUTTIME', \n",
    "                  'HOSPITAL_EXPIRE_FLAG', 'HAS_CHARTEVENTS_DATA', \n",
    "                  'HeartRate_Min', 'HeartRate_Max', 'SysBP_Min', 'SysBP_Max', \n",
    "                  'DiasBP_Min', 'DiasBP_Max', 'RespRate_Max', 'HeartRate_Mean_1',\n",
    "                  'HeartRate_Min_1', 'Glucose_Max', 'Glucose_Min', 'INTIME', 'OUTTIME', \n",
    "                  'DOB', 'DOD', 'LANGUAGE', 'MARITAL_STATUS', 'Height'], axis=1)"
   ]
  },
  {
   "cell_type": "code",
   "execution_count": 10,
   "metadata": {},
   "outputs": [],
   "source": [
    "df_new2 = df_new.drop(columns=['Weight','subject_id','hadm_id'])"
   ]
  },
  {
   "cell_type": "code",
   "execution_count": 11,
   "metadata": {},
   "outputs": [
    {
     "data": {
      "text/plain": [
       "HOME                         16090\n",
       "HOME HEALTH CARE             10924\n",
       "SNF                           5545\n",
       "REHAB/DISTINCT PART HOSP      5042\n",
       "DEAD/EXPIRED                  4393\n",
       "SHORT TERM HOSPITAL           1441\n",
       "LONG TERM CARE HOSPITAL       1385\n",
       "DISC-TRAN CANCER/CHLDRN H      589\n",
       "DISCH-TRAN TO PSYCH HOSP       382\n",
       "HOSPICE-HOME                   266\n",
       "LEFT AGAINST MEDICAL ADVI      214\n",
       "HOSPICE-MEDICAL FACILITY       115\n",
       "OTHER FACILITY                  49\n",
       "HOME WITH HOME IV PROVIDR       42\n",
       "ICF                             31\n",
       "DISC-TRAN TO FEDERAL HC         11\n",
       "SNF-MEDICAID ONLY CERTIF         1\n",
       "Name: DISCHARGE_LOCATION, dtype: int64"
      ]
     },
     "execution_count": 11,
     "metadata": {},
     "output_type": "execute_result"
    }
   ],
   "source": [
    "df_new2.DISCHARGE_LOCATION.value_counts()"
   ]
  },
  {
   "cell_type": "code",
   "execution_count": 12,
   "metadata": {},
   "outputs": [],
   "source": [
    "# target variable encoding\n",
    "result = [] \n",
    "for value in df_new2['DISCHARGE_LOCATION']: \n",
    "    if value == 'DEAD/EXPIRED': \n",
    "        result.append(4) \n",
    "    elif 'HOME' in value: \n",
    "        result.append(1)\n",
    "    elif value.startswith('SNF'): \n",
    "        result.append(2)\n",
    "    else: \n",
    "        result.append(3) \n",
    "        \n",
    "df_new2['target'] = result"
   ]
  },
  {
   "cell_type": "code",
   "execution_count": 13,
   "metadata": {},
   "outputs": [
    {
     "data": {
      "text/plain": [
       "1    27322\n",
       "3     9259\n",
       "2     5546\n",
       "4     4393\n",
       "Name: target, dtype: int64"
      ]
     },
     "execution_count": 13,
     "metadata": {},
     "output_type": "execute_result"
    }
   ],
   "source": [
    "df_new2.target.value_counts()"
   ]
  },
  {
   "cell_type": "code",
   "execution_count": 14,
   "metadata": {},
   "outputs": [
    {
     "data": {
      "text/plain": [
       "Index(['ADMISSION_TYPE', 'ADMISSION_LOCATION', 'DISCHARGE_LOCATION',\n",
       "       'INSURANCE', 'RELIGION', 'ETHNICITY', 'DIAGNOSIS', 'HeartRate_Mean',\n",
       "       'SysBP_Mean', 'DiasBP_Mean', 'TempC_Max', 'RespRate_Mean',\n",
       "       'Glucose_Mean', 'ICU_LOS', 'GENDER', 'Hosp_LOS', 'age', 'ANIONGAP_min',\n",
       "       'ANIONGAP_max', 'ALBUMIN_min', 'ALBUMIN_max', 'BANDS_min', 'BANDS_max',\n",
       "       'BICARBONATE_min', 'BICARBONATE_max', 'BILIRUBIN_min', 'BILIRUBIN_max',\n",
       "       'CREATININE_min', 'CREATININE_max', 'CHLORIDE_min', 'CHLORIDE_max',\n",
       "       'GLUCOSE_min', 'GLUCOSE_max', 'HEMATOCRIT_min', 'HEMATOCRIT_max',\n",
       "       'HEMOGLOBIN_min', 'HEMOGLOBIN_max', 'LACTATE_min', 'LACTATE_max',\n",
       "       'PLATELET_min', 'PLATELET_max', 'POTASSIUM_min', 'POTASSIUM_max',\n",
       "       'PTT_min', 'PTT_max', 'INR_min', 'INR_max', 'PT_min', 'PT_max',\n",
       "       'SODIUM_min', 'SODIUM_max', 'BUN_min', 'BUN_max', 'WBC_min', 'WBC_max',\n",
       "       'EDstay', 'target'],\n",
       "      dtype='object')"
      ]
     },
     "execution_count": 14,
     "metadata": {},
     "output_type": "execute_result"
    }
   ],
   "source": [
    "df_new2.columns"
   ]
  },
  {
   "cell_type": "code",
   "execution_count": 15,
   "metadata": {},
   "outputs": [
    {
     "data": {
      "text/plain": [
       "CATHOLIC                  15659\n",
       "NOT SPECIFIED              9550\n",
       "UNOBTAINABLE               7711\n",
       "PROTESTANT QUAKER          5117\n",
       "JEWISH                     3833\n",
       "OTHER                      2104\n",
       "EPISCOPALIAN                589\n",
       "CHRISTIAN SCIENTIST         360\n",
       "GREEK ORTHODOX              323\n",
       "BUDDHIST                    195\n",
       "MUSLIM                      157\n",
       "JEHOVAH'S WITNESS           104\n",
       "UNITARIAN-UNIVERSALIST      104\n",
       "HINDU                       101\n",
       "ROMANIAN EAST. ORTH          66\n",
       "7TH DAY ADVENTIST            57\n",
       "BAPTIST                      25\n",
       "HEBREW                       15\n",
       "METHODIST                     6\n",
       "LUTHERAN                      1\n",
       "Name: RELIGION, dtype: int64"
      ]
     },
     "execution_count": 15,
     "metadata": {},
     "output_type": "execute_result"
    }
   ],
   "source": [
    "df_new2.RELIGION.value_counts()"
   ]
  },
  {
   "cell_type": "markdown",
   "metadata": {},
   "source": [
    "### Reformat RELIGION and ETHNICITY columns:\n",
    "- Subset 5 types from RELIGION and change the other types to 'RELIGION_others':\n",
    "  - 'BUDDHIST', 'JEWISH', 'HINDU', 'MUSLIM', '7TH DAY ADVENTIST', 'RELIGION_others'\n",
    "- Select 4 types from ETHNICITY:\n",
    "  - 'ASIAN', 'WHITE', 'BLACK', 'ETHNICITY_Others' "
   ]
  },
  {
   "cell_type": "code",
   "execution_count": 16,
   "metadata": {},
   "outputs": [
    {
     "name": "stderr",
     "output_type": "stream",
     "text": [
      "/opt/conda/lib/python3.7/site-packages/ipykernel_launcher.py:2: SettingWithCopyWarning: \n",
      "A value is trying to be set on a copy of a slice from a DataFrame\n",
      "\n",
      "See the caveats in the documentation: https://pandas.pydata.org/pandas-docs/stable/user_guide/indexing.html#returning-a-view-versus-a-copy\n",
      "  \n"
     ]
    }
   ],
   "source": [
    "religion_list = ['BUDDHIST', 'JEWISH', 'HINDU', 'MUSLIM', '7TH DAY ADVENTIST']\n",
    "df_new2.RELIGION[~df_new2.RELIGION.isin(religion_list)] = 'RELIGION_others'"
   ]
  },
  {
   "cell_type": "code",
   "execution_count": 17,
   "metadata": {},
   "outputs": [],
   "source": [
    "result = [] \n",
    "for value in df_new2['ETHNICITY']: \n",
    "    if 'ASIAN' in value: \n",
    "        result.append('ASIAN') \n",
    "    elif 'WHITE' in value: \n",
    "        result.append('WHITE')\n",
    "    elif 'BLACK' in value: \n",
    "        result.append('BLACK')\n",
    "    else: \n",
    "        result.append('ETHNICITY_Others') \n",
    "        \n",
    "df_new2['ETHNICITY_new'] = result\n",
    "df_new2 = df_new2.drop(columns = ['ETHNICITY'])\n",
    "df_new2 = df_new2.rename(columns = {'ETHNICITY_new' : 'ETHNICITY'})"
   ]
  },
  {
   "cell_type": "markdown",
   "metadata": {},
   "source": [
    "### DIAGNOSIS"
   ]
  },
  {
   "cell_type": "code",
   "execution_count": 18,
   "metadata": {},
   "outputs": [],
   "source": [
    "result = [] \n",
    "for value in df_new2['DIAGNOSIS']: \n",
    "    if value == 'PNEUMONIA': \n",
    "        result.append('PNEUMONIA')\n",
    "    elif value == 'CORONARY ARTERY DISEASE': \n",
    "        result.append('CORONARY ARTERY DISEASE')\n",
    "    elif value == 'SEPSIS': \n",
    "        result.append('SEPSIS')\n",
    "    elif value == 'INTRACRANIAL HEMORRHAGE': \n",
    "        result.append('INTRACRANIAL HEMORRHAGE')\n",
    "    elif value == 'CHEST PAIN': \n",
    "        result.append('CHEST PAIN')\n",
    "    elif value == 'CORONARY ARTERY DISEASE\\CORONARY ARTERY BYPASS GRAFT /SDA': \n",
    "        result.append('CORONARY ARTERY DISEASE\\CORONARY ARTERY BYPASS GRAFT /SDA')\n",
    "    elif value == 'GASTROINTESTINAL BLEED': \n",
    "        result.append('GASTROINTESTINAL BLEED')\n",
    "    elif value == 'CONGESTIVE HEART FAILURE': \n",
    "        result.append('CONGESTIVE HEART FAILURE')\n",
    "    elif value == 'ALTERED MENTAL STATUS': \n",
    "        result.append('ALTERED MENTAL STATUS')\n",
    "    else: \n",
    "        result.append('others') \n",
    "        \n",
    "df_new2['DIAGNOSIS_new'] = result\n",
    "df_new2 = df_new2.drop(columns = ['DIAGNOSIS'])\n",
    "df_new2 = df_new2.rename(columns = {'DIAGNOSIS_new' : 'DIAGNOSIS'})"
   ]
  },
  {
   "cell_type": "code",
   "execution_count": 19,
   "metadata": {},
   "outputs": [],
   "source": [
    "df_new2['ICU_LOS'] = df_new2['ICU_LOS'].fillna(0)"
   ]
  },
  {
   "cell_type": "code",
   "execution_count": 20,
   "metadata": {},
   "outputs": [],
   "source": [
    "df_new2.drop(columns='Hosp_LOS', inplace=True)"
   ]
  },
  {
   "cell_type": "code",
   "execution_count": 21,
   "metadata": {},
   "outputs": [],
   "source": [
    "from sklearn.model_selection import train_test_split"
   ]
  },
  {
   "cell_type": "code",
   "execution_count": 22,
   "metadata": {},
   "outputs": [],
   "source": [
    "df_new2.drop(columns=['DISCHARGE_LOCATION'], inplace=True)"
   ]
  },
  {
   "cell_type": "code",
   "execution_count": 23,
   "metadata": {},
   "outputs": [],
   "source": [
    "y = df_new2.pop('target')\n",
    "X_train, X_test, y_train, y_test = train_test_split(df_new2, y, test_size=0.2, random_state=123, stratify=y)"
   ]
  },
  {
   "cell_type": "code",
   "execution_count": 24,
   "metadata": {},
   "outputs": [],
   "source": [
    "from sklearn.impute import SimpleImputer\n",
    "from sklearn.experimental import enable_iterative_imputer\n",
    "from sklearn.impute import IterativeImputer\n",
    "from sklearn.impute import KNNImputer"
   ]
  },
  {
   "cell_type": "code",
   "execution_count": 25,
   "metadata": {},
   "outputs": [],
   "source": [
    "imp = SimpleImputer(strategy='mean')"
   ]
  },
  {
   "cell_type": "code",
   "execution_count": 26,
   "metadata": {},
   "outputs": [],
   "source": [
    "numeric_columns = X_train.select_dtypes(include='number').columns"
   ]
  },
  {
   "cell_type": "code",
   "execution_count": 27,
   "metadata": {},
   "outputs": [],
   "source": [
    "object_columns = X_train.select_dtypes(include='O').columns"
   ]
  },
  {
   "cell_type": "code",
   "execution_count": 28,
   "metadata": {},
   "outputs": [
    {
     "data": {
      "text/plain": [
       "SimpleImputer()"
      ]
     },
     "execution_count": 28,
     "metadata": {},
     "output_type": "execute_result"
    }
   ],
   "source": [
    "imp.fit(X_train[numeric_columns])"
   ]
  },
  {
   "cell_type": "code",
   "execution_count": 29,
   "metadata": {},
   "outputs": [],
   "source": [
    "X_train1 = pd.concat([X_train[object_columns].reset_index(drop=True), \n",
    "           pd.DataFrame(imp.transform(X_train[numeric_columns]), columns=numeric_columns).reset_index(drop=True)], \n",
    "           axis = 1)"
   ]
  },
  {
   "cell_type": "code",
   "execution_count": 30,
   "metadata": {},
   "outputs": [],
   "source": [
    "X_test1 = pd.concat([X_test[object_columns].reset_index(drop=True), \n",
    "           pd.DataFrame(imp.transform(X_test[numeric_columns]), columns=numeric_columns).reset_index(drop=True)], \n",
    "           axis = 1)"
   ]
  },
  {
   "cell_type": "code",
   "execution_count": 31,
   "metadata": {},
   "outputs": [],
   "source": [
    "pd.DataFrame(X_train1).to_csv(\"X_train_nodummy.csv\")"
   ]
  },
  {
   "cell_type": "code",
   "execution_count": 32,
   "metadata": {},
   "outputs": [],
   "source": [
    "pd.DataFrame(X_test1).to_csv(\"X_test_nodummy.csv\")"
   ]
  }
 ],
 "metadata": {
  "kernelspec": {
   "display_name": "Python 3",
   "language": "python",
   "name": "python3"
  },
  "language_info": {
   "codemirror_mode": {
    "name": "ipython",
    "version": 3
   },
   "file_extension": ".py",
   "mimetype": "text/x-python",
   "name": "python",
   "nbconvert_exporter": "python",
   "pygments_lexer": "ipython3",
   "version": "3.7.8"
  }
 },
 "nbformat": 4,
 "nbformat_minor": 4
}
